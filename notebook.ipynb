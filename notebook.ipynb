{
  "cells": [
    {
      "cell_type": "markdown",
      "metadata": {
        "id": "H9wADwK78DCz"
      },
      "source": [
        "# Proyek Analisis Data:Bike Sharing Dataset\n",
        "- **Nama:** Irfan Luthfi\n",
        "- **Email:** irfan150503@gmail.com\n",
        "- **ID Dicoding:** mc189d5y0427"
      ]
    },
    {
      "cell_type": "markdown",
      "metadata": {
        "id": "eE0raob58DC0"
      },
      "source": [
        "## Menentukan Pertanyaan Bisnis"
      ]
    },
    {
      "cell_type": "markdown",
      "metadata": {
        "id": "GmQeQ5YF8DC0"
      },
      "source": [
        "- Pada musim apa penyewaan sepeda paling banyak dan paling sedikit dilakukan?\n",
        "- Pada jam berapa penyewaan sepeda yang paling banyak dan paling sedikit sepanjang tahun 2011 dan 2012?\n",
        "- Bagaimana Perbandingan jumlah penyewaan sepeda antara jam 00.00-11.59 dengan jam 12.00-23.59 (AM dan PM)?\n",
        "- Bagaimana perbandingan jumlah antara pelanggan jenis registered dan casual ?\n",
        "- Bagaimana performa penyewaan sepeda per bulan tiap tahunnya?\n"
      ]
    },
    {
      "cell_type": "markdown",
      "metadata": {
        "id": "H-z4QGlO8DC1"
      },
      "source": [
        "## Import Semua Packages/Library yang Digunakan"
      ]
    },
    {
      "cell_type": "code",
      "execution_count": 5,
      "metadata": {
        "id": "FVYwaObI8DC1"
      },
      "outputs": [],
      "source": [
        "import numpy as np\n",
        "import pandas as pd\n",
        "import matplotlib.pyplot as plt\n",
        "import seaborn as sns"
      ]
    },
    {
      "cell_type": "markdown",
      "metadata": {
        "id": "h_Sh51Xy8DC1"
      },
      "source": [
        "## Data Wrangling"
      ]
    },
    {
      "cell_type": "markdown",
      "metadata": {
        "id": "sXU2GBYu8DC1"
      },
      "source": [
        "### Gathering Data"
      ]
    },
    {
      "cell_type": "code",
      "execution_count": 6,
      "metadata": {
        "colab": {
          "base_uri": "https://localhost:8080/",
          "height": 313
        },
        "id": "zjCBk1BI8DC1",
        "outputId": "6c442370-5bb3-492c-dc5e-7d4fa9a4b874"
      },
      "outputs": [
        {
          "data": {
            "text/html": [
              "<div>\n",
              "<style scoped>\n",
              "    .dataframe tbody tr th:only-of-type {\n",
              "        vertical-align: middle;\n",
              "    }\n",
              "\n",
              "    .dataframe tbody tr th {\n",
              "        vertical-align: top;\n",
              "    }\n",
              "\n",
              "    .dataframe thead th {\n",
              "        text-align: right;\n",
              "    }\n",
              "</style>\n",
              "<table border=\"1\" class=\"dataframe\">\n",
              "  <thead>\n",
              "    <tr style=\"text-align: right;\">\n",
              "      <th></th>\n",
              "      <th>instant</th>\n",
              "      <th>dteday</th>\n",
              "      <th>season</th>\n",
              "      <th>yr</th>\n",
              "      <th>mnth</th>\n",
              "      <th>holiday</th>\n",
              "      <th>weekday</th>\n",
              "      <th>workingday</th>\n",
              "      <th>weathersit</th>\n",
              "      <th>temp</th>\n",
              "      <th>atemp</th>\n",
              "      <th>hum</th>\n",
              "      <th>windspeed</th>\n",
              "      <th>casual</th>\n",
              "      <th>registered</th>\n",
              "      <th>cnt</th>\n",
              "    </tr>\n",
              "  </thead>\n",
              "  <tbody>\n",
              "    <tr>\n",
              "      <th>0</th>\n",
              "      <td>1</td>\n",
              "      <td>2011-01-01</td>\n",
              "      <td>1</td>\n",
              "      <td>0</td>\n",
              "      <td>1</td>\n",
              "      <td>0</td>\n",
              "      <td>6</td>\n",
              "      <td>0</td>\n",
              "      <td>2</td>\n",
              "      <td>0.344167</td>\n",
              "      <td>0.363625</td>\n",
              "      <td>0.805833</td>\n",
              "      <td>0.160446</td>\n",
              "      <td>331</td>\n",
              "      <td>654</td>\n",
              "      <td>985</td>\n",
              "    </tr>\n",
              "    <tr>\n",
              "      <th>1</th>\n",
              "      <td>2</td>\n",
              "      <td>2011-01-02</td>\n",
              "      <td>1</td>\n",
              "      <td>0</td>\n",
              "      <td>1</td>\n",
              "      <td>0</td>\n",
              "      <td>0</td>\n",
              "      <td>0</td>\n",
              "      <td>2</td>\n",
              "      <td>0.363478</td>\n",
              "      <td>0.353739</td>\n",
              "      <td>0.696087</td>\n",
              "      <td>0.248539</td>\n",
              "      <td>131</td>\n",
              "      <td>670</td>\n",
              "      <td>801</td>\n",
              "    </tr>\n",
              "    <tr>\n",
              "      <th>2</th>\n",
              "      <td>3</td>\n",
              "      <td>2011-01-03</td>\n",
              "      <td>1</td>\n",
              "      <td>0</td>\n",
              "      <td>1</td>\n",
              "      <td>0</td>\n",
              "      <td>1</td>\n",
              "      <td>1</td>\n",
              "      <td>1</td>\n",
              "      <td>0.196364</td>\n",
              "      <td>0.189405</td>\n",
              "      <td>0.437273</td>\n",
              "      <td>0.248309</td>\n",
              "      <td>120</td>\n",
              "      <td>1229</td>\n",
              "      <td>1349</td>\n",
              "    </tr>\n",
              "    <tr>\n",
              "      <th>3</th>\n",
              "      <td>4</td>\n",
              "      <td>2011-01-04</td>\n",
              "      <td>1</td>\n",
              "      <td>0</td>\n",
              "      <td>1</td>\n",
              "      <td>0</td>\n",
              "      <td>2</td>\n",
              "      <td>1</td>\n",
              "      <td>1</td>\n",
              "      <td>0.200000</td>\n",
              "      <td>0.212122</td>\n",
              "      <td>0.590435</td>\n",
              "      <td>0.160296</td>\n",
              "      <td>108</td>\n",
              "      <td>1454</td>\n",
              "      <td>1562</td>\n",
              "    </tr>\n",
              "    <tr>\n",
              "      <th>4</th>\n",
              "      <td>5</td>\n",
              "      <td>2011-01-05</td>\n",
              "      <td>1</td>\n",
              "      <td>0</td>\n",
              "      <td>1</td>\n",
              "      <td>0</td>\n",
              "      <td>3</td>\n",
              "      <td>1</td>\n",
              "      <td>1</td>\n",
              "      <td>0.226957</td>\n",
              "      <td>0.229270</td>\n",
              "      <td>0.436957</td>\n",
              "      <td>0.186900</td>\n",
              "      <td>82</td>\n",
              "      <td>1518</td>\n",
              "      <td>1600</td>\n",
              "    </tr>\n",
              "  </tbody>\n",
              "</table>\n",
              "</div>"
            ],
            "text/plain": [
              "   instant      dteday  season  yr  mnth  holiday  weekday  workingday  \\\n",
              "0        1  2011-01-01       1   0     1        0        6           0   \n",
              "1        2  2011-01-02       1   0     1        0        0           0   \n",
              "2        3  2011-01-03       1   0     1        0        1           1   \n",
              "3        4  2011-01-04       1   0     1        0        2           1   \n",
              "4        5  2011-01-05       1   0     1        0        3           1   \n",
              "\n",
              "   weathersit      temp     atemp       hum  windspeed  casual  registered  \\\n",
              "0           2  0.344167  0.363625  0.805833   0.160446     331         654   \n",
              "1           2  0.363478  0.353739  0.696087   0.248539     131         670   \n",
              "2           1  0.196364  0.189405  0.437273   0.248309     120        1229   \n",
              "3           1  0.200000  0.212122  0.590435   0.160296     108        1454   \n",
              "4           1  0.226957  0.229270  0.436957   0.186900      82        1518   \n",
              "\n",
              "    cnt  \n",
              "0   985  \n",
              "1   801  \n",
              "2  1349  \n",
              "3  1562  \n",
              "4  1600  "
            ]
          },
          "execution_count": 6,
          "metadata": {},
          "output_type": "execute_result"
        }
      ],
      "source": [
        "#Mengumpulkan data day(hari) menjadi satu data frame dengan nama day_df\n",
        "day_df = pd.read_csv(\"data/day.csv\")\n",
        "day_df.head()"
      ]
    },
    {
      "cell_type": "code",
      "execution_count": 7,
      "metadata": {
        "colab": {
          "base_uri": "https://localhost:8080/",
          "height": 313
        },
        "id": "pP_jl2gqC41V",
        "outputId": "4ac71020-1dd6-44d8-97af-8823b614af6d"
      },
      "outputs": [
        {
          "data": {
            "text/html": [
              "<div>\n",
              "<style scoped>\n",
              "    .dataframe tbody tr th:only-of-type {\n",
              "        vertical-align: middle;\n",
              "    }\n",
              "\n",
              "    .dataframe tbody tr th {\n",
              "        vertical-align: top;\n",
              "    }\n",
              "\n",
              "    .dataframe thead th {\n",
              "        text-align: right;\n",
              "    }\n",
              "</style>\n",
              "<table border=\"1\" class=\"dataframe\">\n",
              "  <thead>\n",
              "    <tr style=\"text-align: right;\">\n",
              "      <th></th>\n",
              "      <th>instant</th>\n",
              "      <th>dteday</th>\n",
              "      <th>season</th>\n",
              "      <th>yr</th>\n",
              "      <th>mnth</th>\n",
              "      <th>hr</th>\n",
              "      <th>holiday</th>\n",
              "      <th>weekday</th>\n",
              "      <th>workingday</th>\n",
              "      <th>weathersit</th>\n",
              "      <th>temp</th>\n",
              "      <th>atemp</th>\n",
              "      <th>hum</th>\n",
              "      <th>windspeed</th>\n",
              "      <th>casual</th>\n",
              "      <th>registered</th>\n",
              "      <th>cnt</th>\n",
              "    </tr>\n",
              "  </thead>\n",
              "  <tbody>\n",
              "    <tr>\n",
              "      <th>0</th>\n",
              "      <td>1</td>\n",
              "      <td>2011-01-01</td>\n",
              "      <td>1</td>\n",
              "      <td>0</td>\n",
              "      <td>1</td>\n",
              "      <td>0</td>\n",
              "      <td>0</td>\n",
              "      <td>6</td>\n",
              "      <td>0</td>\n",
              "      <td>1</td>\n",
              "      <td>0.24</td>\n",
              "      <td>0.2879</td>\n",
              "      <td>0.81</td>\n",
              "      <td>0.0</td>\n",
              "      <td>3</td>\n",
              "      <td>13</td>\n",
              "      <td>16</td>\n",
              "    </tr>\n",
              "    <tr>\n",
              "      <th>1</th>\n",
              "      <td>2</td>\n",
              "      <td>2011-01-01</td>\n",
              "      <td>1</td>\n",
              "      <td>0</td>\n",
              "      <td>1</td>\n",
              "      <td>1</td>\n",
              "      <td>0</td>\n",
              "      <td>6</td>\n",
              "      <td>0</td>\n",
              "      <td>1</td>\n",
              "      <td>0.22</td>\n",
              "      <td>0.2727</td>\n",
              "      <td>0.80</td>\n",
              "      <td>0.0</td>\n",
              "      <td>8</td>\n",
              "      <td>32</td>\n",
              "      <td>40</td>\n",
              "    </tr>\n",
              "    <tr>\n",
              "      <th>2</th>\n",
              "      <td>3</td>\n",
              "      <td>2011-01-01</td>\n",
              "      <td>1</td>\n",
              "      <td>0</td>\n",
              "      <td>1</td>\n",
              "      <td>2</td>\n",
              "      <td>0</td>\n",
              "      <td>6</td>\n",
              "      <td>0</td>\n",
              "      <td>1</td>\n",
              "      <td>0.22</td>\n",
              "      <td>0.2727</td>\n",
              "      <td>0.80</td>\n",
              "      <td>0.0</td>\n",
              "      <td>5</td>\n",
              "      <td>27</td>\n",
              "      <td>32</td>\n",
              "    </tr>\n",
              "    <tr>\n",
              "      <th>3</th>\n",
              "      <td>4</td>\n",
              "      <td>2011-01-01</td>\n",
              "      <td>1</td>\n",
              "      <td>0</td>\n",
              "      <td>1</td>\n",
              "      <td>3</td>\n",
              "      <td>0</td>\n",
              "      <td>6</td>\n",
              "      <td>0</td>\n",
              "      <td>1</td>\n",
              "      <td>0.24</td>\n",
              "      <td>0.2879</td>\n",
              "      <td>0.75</td>\n",
              "      <td>0.0</td>\n",
              "      <td>3</td>\n",
              "      <td>10</td>\n",
              "      <td>13</td>\n",
              "    </tr>\n",
              "    <tr>\n",
              "      <th>4</th>\n",
              "      <td>5</td>\n",
              "      <td>2011-01-01</td>\n",
              "      <td>1</td>\n",
              "      <td>0</td>\n",
              "      <td>1</td>\n",
              "      <td>4</td>\n",
              "      <td>0</td>\n",
              "      <td>6</td>\n",
              "      <td>0</td>\n",
              "      <td>1</td>\n",
              "      <td>0.24</td>\n",
              "      <td>0.2879</td>\n",
              "      <td>0.75</td>\n",
              "      <td>0.0</td>\n",
              "      <td>0</td>\n",
              "      <td>1</td>\n",
              "      <td>1</td>\n",
              "    </tr>\n",
              "  </tbody>\n",
              "</table>\n",
              "</div>"
            ],
            "text/plain": [
              "   instant      dteday  season  yr  mnth  hr  holiday  weekday  workingday  \\\n",
              "0        1  2011-01-01       1   0     1   0        0        6           0   \n",
              "1        2  2011-01-01       1   0     1   1        0        6           0   \n",
              "2        3  2011-01-01       1   0     1   2        0        6           0   \n",
              "3        4  2011-01-01       1   0     1   3        0        6           0   \n",
              "4        5  2011-01-01       1   0     1   4        0        6           0   \n",
              "\n",
              "   weathersit  temp   atemp   hum  windspeed  casual  registered  cnt  \n",
              "0           1  0.24  0.2879  0.81        0.0       3          13   16  \n",
              "1           1  0.22  0.2727  0.80        0.0       8          32   40  \n",
              "2           1  0.22  0.2727  0.80        0.0       5          27   32  \n",
              "3           1  0.24  0.2879  0.75        0.0       3          10   13  \n",
              "4           1  0.24  0.2879  0.75        0.0       0           1    1  "
            ]
          },
          "execution_count": 7,
          "metadata": {},
          "output_type": "execute_result"
        }
      ],
      "source": [
        "#Mengumpulkan data hour(jam) menjadi satu data frame dengan nama hour_df\n",
        "hour_df = pd.read_csv(\"data/hour.csv\")\n",
        "hour_df.head()"
      ]
    },
    {
      "cell_type": "markdown",
      "metadata": {
        "id": "FHSiqaZp8DC1"
      },
      "source": [
        "### Assessing Data"
      ]
    },
    {
      "cell_type": "markdown",
      "metadata": {
        "id": "8bhr5gpEEYTi"
      },
      "source": [
        "**> Mengecek Tipe Data**"
      ]
    },
    {
      "cell_type": "code",
      "execution_count": 8,
      "metadata": {
        "colab": {
          "base_uri": "https://localhost:8080/"
        },
        "id": "hlQFkAJjD7T9",
        "outputId": "fe509466-523f-43bb-93b9-785922bafe6f"
      },
      "outputs": [
        {
          "name": "stdout",
          "output_type": "stream",
          "text": [
            "<class 'pandas.core.frame.DataFrame'>\n",
            "RangeIndex: 731 entries, 0 to 730\n",
            "Data columns (total 16 columns):\n",
            " #   Column      Non-Null Count  Dtype  \n",
            "---  ------      --------------  -----  \n",
            " 0   instant     731 non-null    int64  \n",
            " 1   dteday      731 non-null    object \n",
            " 2   season      731 non-null    int64  \n",
            " 3   yr          731 non-null    int64  \n",
            " 4   mnth        731 non-null    int64  \n",
            " 5   holiday     731 non-null    int64  \n",
            " 6   weekday     731 non-null    int64  \n",
            " 7   workingday  731 non-null    int64  \n",
            " 8   weathersit  731 non-null    int64  \n",
            " 9   temp        731 non-null    float64\n",
            " 10  atemp       731 non-null    float64\n",
            " 11  hum         731 non-null    float64\n",
            " 12  windspeed   731 non-null    float64\n",
            " 13  casual      731 non-null    int64  \n",
            " 14  registered  731 non-null    int64  \n",
            " 15  cnt         731 non-null    int64  \n",
            "dtypes: float64(4), int64(11), object(1)\n",
            "memory usage: 91.5+ KB\n"
          ]
        }
      ],
      "source": [
        "# memeriksa tipe data data dari tiap kolom yang terdapat dalam day_df\n",
        "day_df.info()"
      ]
    },
    {
      "cell_type": "code",
      "execution_count": 9,
      "metadata": {
        "colab": {
          "base_uri": "https://localhost:8080/"
        },
        "id": "ax-3tEjc9Cj1",
        "outputId": "014f76b8-fcbc-4194-b5da-c90c2fdc5417"
      },
      "outputs": [
        {
          "name": "stdout",
          "output_type": "stream",
          "text": [
            "<class 'pandas.core.frame.DataFrame'>\n",
            "RangeIndex: 17379 entries, 0 to 17378\n",
            "Data columns (total 17 columns):\n",
            " #   Column      Non-Null Count  Dtype  \n",
            "---  ------      --------------  -----  \n",
            " 0   instant     17379 non-null  int64  \n",
            " 1   dteday      17379 non-null  object \n",
            " 2   season      17379 non-null  int64  \n",
            " 3   yr          17379 non-null  int64  \n",
            " 4   mnth        17379 non-null  int64  \n",
            " 5   hr          17379 non-null  int64  \n",
            " 6   holiday     17379 non-null  int64  \n",
            " 7   weekday     17379 non-null  int64  \n",
            " 8   workingday  17379 non-null  int64  \n",
            " 9   weathersit  17379 non-null  int64  \n",
            " 10  temp        17379 non-null  float64\n",
            " 11  atemp       17379 non-null  float64\n",
            " 12  hum         17379 non-null  float64\n",
            " 13  windspeed   17379 non-null  float64\n",
            " 14  casual      17379 non-null  int64  \n",
            " 15  registered  17379 non-null  int64  \n",
            " 16  cnt         17379 non-null  int64  \n",
            "dtypes: float64(4), int64(12), object(1)\n",
            "memory usage: 2.3+ MB\n"
          ]
        }
      ],
      "source": [
        "# memeriksa tipe data data dari tiap kolom yang terdapat dalam hour_df\n",
        "hour_df.info()"
      ]
    },
    {
      "cell_type": "markdown",
      "metadata": {
        "id": "8TCuw8_vDkQZ"
      },
      "source": [
        "Pada info diatas kita dapat melihat bahwa kolom dteday bertipe object,untuk memnaipulasi tanggal ini maka kita nantinya akan merubah data kolom ini menjadi datetime"
      ]
    },
    {
      "cell_type": "markdown",
      "metadata": {
        "id": "ME7Ap7vgEnMm"
      },
      "source": [
        "**> Mengecek Missing Value**"
      ]
    },
    {
      "cell_type": "code",
      "execution_count": 10,
      "metadata": {
        "colab": {
          "base_uri": "https://localhost:8080/"
        },
        "id": "gBoHj8QEEMTi",
        "outputId": "b21afaea-b49a-49fe-d883-3d0900e30d82"
      },
      "outputs": [
        {
          "data": {
            "text/plain": [
              "instant       0\n",
              "dteday        0\n",
              "season        0\n",
              "yr            0\n",
              "mnth          0\n",
              "hr            0\n",
              "holiday       0\n",
              "weekday       0\n",
              "workingday    0\n",
              "weathersit    0\n",
              "temp          0\n",
              "atemp         0\n",
              "hum           0\n",
              "windspeed     0\n",
              "casual        0\n",
              "registered    0\n",
              "cnt           0\n",
              "dtype: int64"
            ]
          },
          "execution_count": 10,
          "metadata": {},
          "output_type": "execute_result"
        }
      ],
      "source": [
        "# mengecek keberadaan missing value di dataset day_df\n",
        "hour_df.isna().sum()"
      ]
    },
    {
      "cell_type": "code",
      "execution_count": 11,
      "metadata": {
        "colab": {
          "base_uri": "https://localhost:8080/"
        },
        "id": "JOyE3-4gIn4O",
        "outputId": "2c3703d0-feb9-47f8-aa4b-4b1696441d02"
      },
      "outputs": [
        {
          "data": {
            "text/plain": [
              "instant       0\n",
              "dteday        0\n",
              "season        0\n",
              "yr            0\n",
              "mnth          0\n",
              "hr            0\n",
              "holiday       0\n",
              "weekday       0\n",
              "workingday    0\n",
              "weathersit    0\n",
              "temp          0\n",
              "atemp         0\n",
              "hum           0\n",
              "windspeed     0\n",
              "casual        0\n",
              "registered    0\n",
              "cnt           0\n",
              "dtype: int64"
            ]
          },
          "execution_count": 11,
          "metadata": {},
          "output_type": "execute_result"
        }
      ],
      "source": [
        "# mengecek keberadaan missing value di dataset hour_df\n",
        "hour_df.isna().sum()"
      ]
    },
    {
      "cell_type": "markdown",
      "metadata": {
        "id": "fQcEs7BRIzQ2"
      },
      "source": [
        "**> Mengecek duplikasi data pada dataset**"
      ]
    },
    {
      "cell_type": "code",
      "execution_count": 12,
      "metadata": {
        "colab": {
          "base_uri": "https://localhost:8080/"
        },
        "id": "k8qrNRtcJAIZ",
        "outputId": "ed7ff750-bba9-4f74-9528-6b2e6713689e"
      },
      "outputs": [
        {
          "name": "stdout",
          "output_type": "stream",
          "text": [
            "Jumlah duplikasi pada dataframe df_day:  0\n",
            "Jumlah duplikasi pada dataframe df_hour:  0\n"
          ]
        }
      ],
      "source": [
        "# memeriksa duplikasi\n",
        "print(\"Jumlah duplikasi pada dataframe df_day: \", day_df.duplicated().sum())\n",
        "print(\"Jumlah duplikasi pada dataframe df_hour: \", hour_df.duplicated().sum())"
      ]
    },
    {
      "cell_type": "markdown",
      "metadata": {
        "id": "SWVMxz3XJrLq"
      },
      "source": [
        "**> memeriksa parameter statistik dari kolom numerik pada dataframe**"
      ]
    },
    {
      "cell_type": "code",
      "execution_count": 13,
      "metadata": {
        "colab": {
          "base_uri": "https://localhost:8080/",
          "height": 320
        },
        "id": "l6jqlNPKLqCw",
        "outputId": "f191b01c-bc18-4875-9243-8a2d77906e11"
      },
      "outputs": [
        {
          "data": {
            "text/html": [
              "<div>\n",
              "<style scoped>\n",
              "    .dataframe tbody tr th:only-of-type {\n",
              "        vertical-align: middle;\n",
              "    }\n",
              "\n",
              "    .dataframe tbody tr th {\n",
              "        vertical-align: top;\n",
              "    }\n",
              "\n",
              "    .dataframe thead th {\n",
              "        text-align: right;\n",
              "    }\n",
              "</style>\n",
              "<table border=\"1\" class=\"dataframe\">\n",
              "  <thead>\n",
              "    <tr style=\"text-align: right;\">\n",
              "      <th></th>\n",
              "      <th>instant</th>\n",
              "      <th>season</th>\n",
              "      <th>yr</th>\n",
              "      <th>mnth</th>\n",
              "      <th>holiday</th>\n",
              "      <th>weekday</th>\n",
              "      <th>workingday</th>\n",
              "      <th>weathersit</th>\n",
              "      <th>temp</th>\n",
              "      <th>atemp</th>\n",
              "      <th>hum</th>\n",
              "      <th>windspeed</th>\n",
              "      <th>casual</th>\n",
              "      <th>registered</th>\n",
              "      <th>cnt</th>\n",
              "    </tr>\n",
              "  </thead>\n",
              "  <tbody>\n",
              "    <tr>\n",
              "      <th>count</th>\n",
              "      <td>731.000000</td>\n",
              "      <td>731.000000</td>\n",
              "      <td>731.000000</td>\n",
              "      <td>731.000000</td>\n",
              "      <td>731.000000</td>\n",
              "      <td>731.000000</td>\n",
              "      <td>731.000000</td>\n",
              "      <td>731.000000</td>\n",
              "      <td>731.000000</td>\n",
              "      <td>731.000000</td>\n",
              "      <td>731.000000</td>\n",
              "      <td>731.000000</td>\n",
              "      <td>731.000000</td>\n",
              "      <td>731.000000</td>\n",
              "      <td>731.000000</td>\n",
              "    </tr>\n",
              "    <tr>\n",
              "      <th>mean</th>\n",
              "      <td>366.000000</td>\n",
              "      <td>2.496580</td>\n",
              "      <td>0.500684</td>\n",
              "      <td>6.519836</td>\n",
              "      <td>0.028728</td>\n",
              "      <td>2.997264</td>\n",
              "      <td>0.683995</td>\n",
              "      <td>1.395349</td>\n",
              "      <td>0.495385</td>\n",
              "      <td>0.474354</td>\n",
              "      <td>0.627894</td>\n",
              "      <td>0.190486</td>\n",
              "      <td>848.176471</td>\n",
              "      <td>3656.172367</td>\n",
              "      <td>4504.348837</td>\n",
              "    </tr>\n",
              "    <tr>\n",
              "      <th>std</th>\n",
              "      <td>211.165812</td>\n",
              "      <td>1.110807</td>\n",
              "      <td>0.500342</td>\n",
              "      <td>3.451913</td>\n",
              "      <td>0.167155</td>\n",
              "      <td>2.004787</td>\n",
              "      <td>0.465233</td>\n",
              "      <td>0.544894</td>\n",
              "      <td>0.183051</td>\n",
              "      <td>0.162961</td>\n",
              "      <td>0.142429</td>\n",
              "      <td>0.077498</td>\n",
              "      <td>686.622488</td>\n",
              "      <td>1560.256377</td>\n",
              "      <td>1937.211452</td>\n",
              "    </tr>\n",
              "    <tr>\n",
              "      <th>min</th>\n",
              "      <td>1.000000</td>\n",
              "      <td>1.000000</td>\n",
              "      <td>0.000000</td>\n",
              "      <td>1.000000</td>\n",
              "      <td>0.000000</td>\n",
              "      <td>0.000000</td>\n",
              "      <td>0.000000</td>\n",
              "      <td>1.000000</td>\n",
              "      <td>0.059130</td>\n",
              "      <td>0.079070</td>\n",
              "      <td>0.000000</td>\n",
              "      <td>0.022392</td>\n",
              "      <td>2.000000</td>\n",
              "      <td>20.000000</td>\n",
              "      <td>22.000000</td>\n",
              "    </tr>\n",
              "    <tr>\n",
              "      <th>25%</th>\n",
              "      <td>183.500000</td>\n",
              "      <td>2.000000</td>\n",
              "      <td>0.000000</td>\n",
              "      <td>4.000000</td>\n",
              "      <td>0.000000</td>\n",
              "      <td>1.000000</td>\n",
              "      <td>0.000000</td>\n",
              "      <td>1.000000</td>\n",
              "      <td>0.337083</td>\n",
              "      <td>0.337842</td>\n",
              "      <td>0.520000</td>\n",
              "      <td>0.134950</td>\n",
              "      <td>315.500000</td>\n",
              "      <td>2497.000000</td>\n",
              "      <td>3152.000000</td>\n",
              "    </tr>\n",
              "    <tr>\n",
              "      <th>50%</th>\n",
              "      <td>366.000000</td>\n",
              "      <td>3.000000</td>\n",
              "      <td>1.000000</td>\n",
              "      <td>7.000000</td>\n",
              "      <td>0.000000</td>\n",
              "      <td>3.000000</td>\n",
              "      <td>1.000000</td>\n",
              "      <td>1.000000</td>\n",
              "      <td>0.498333</td>\n",
              "      <td>0.486733</td>\n",
              "      <td>0.626667</td>\n",
              "      <td>0.180975</td>\n",
              "      <td>713.000000</td>\n",
              "      <td>3662.000000</td>\n",
              "      <td>4548.000000</td>\n",
              "    </tr>\n",
              "    <tr>\n",
              "      <th>75%</th>\n",
              "      <td>548.500000</td>\n",
              "      <td>3.000000</td>\n",
              "      <td>1.000000</td>\n",
              "      <td>10.000000</td>\n",
              "      <td>0.000000</td>\n",
              "      <td>5.000000</td>\n",
              "      <td>1.000000</td>\n",
              "      <td>2.000000</td>\n",
              "      <td>0.655417</td>\n",
              "      <td>0.608602</td>\n",
              "      <td>0.730209</td>\n",
              "      <td>0.233214</td>\n",
              "      <td>1096.000000</td>\n",
              "      <td>4776.500000</td>\n",
              "      <td>5956.000000</td>\n",
              "    </tr>\n",
              "    <tr>\n",
              "      <th>max</th>\n",
              "      <td>731.000000</td>\n",
              "      <td>4.000000</td>\n",
              "      <td>1.000000</td>\n",
              "      <td>12.000000</td>\n",
              "      <td>1.000000</td>\n",
              "      <td>6.000000</td>\n",
              "      <td>1.000000</td>\n",
              "      <td>3.000000</td>\n",
              "      <td>0.861667</td>\n",
              "      <td>0.840896</td>\n",
              "      <td>0.972500</td>\n",
              "      <td>0.507463</td>\n",
              "      <td>3410.000000</td>\n",
              "      <td>6946.000000</td>\n",
              "      <td>8714.000000</td>\n",
              "    </tr>\n",
              "  </tbody>\n",
              "</table>\n",
              "</div>"
            ],
            "text/plain": [
              "          instant      season          yr        mnth     holiday     weekday  \\\n",
              "count  731.000000  731.000000  731.000000  731.000000  731.000000  731.000000   \n",
              "mean   366.000000    2.496580    0.500684    6.519836    0.028728    2.997264   \n",
              "std    211.165812    1.110807    0.500342    3.451913    0.167155    2.004787   \n",
              "min      1.000000    1.000000    0.000000    1.000000    0.000000    0.000000   \n",
              "25%    183.500000    2.000000    0.000000    4.000000    0.000000    1.000000   \n",
              "50%    366.000000    3.000000    1.000000    7.000000    0.000000    3.000000   \n",
              "75%    548.500000    3.000000    1.000000   10.000000    0.000000    5.000000   \n",
              "max    731.000000    4.000000    1.000000   12.000000    1.000000    6.000000   \n",
              "\n",
              "       workingday  weathersit        temp       atemp         hum   windspeed  \\\n",
              "count  731.000000  731.000000  731.000000  731.000000  731.000000  731.000000   \n",
              "mean     0.683995    1.395349    0.495385    0.474354    0.627894    0.190486   \n",
              "std      0.465233    0.544894    0.183051    0.162961    0.142429    0.077498   \n",
              "min      0.000000    1.000000    0.059130    0.079070    0.000000    0.022392   \n",
              "25%      0.000000    1.000000    0.337083    0.337842    0.520000    0.134950   \n",
              "50%      1.000000    1.000000    0.498333    0.486733    0.626667    0.180975   \n",
              "75%      1.000000    2.000000    0.655417    0.608602    0.730209    0.233214   \n",
              "max      1.000000    3.000000    0.861667    0.840896    0.972500    0.507463   \n",
              "\n",
              "            casual   registered          cnt  \n",
              "count   731.000000   731.000000   731.000000  \n",
              "mean    848.176471  3656.172367  4504.348837  \n",
              "std     686.622488  1560.256377  1937.211452  \n",
              "min       2.000000    20.000000    22.000000  \n",
              "25%     315.500000  2497.000000  3152.000000  \n",
              "50%     713.000000  3662.000000  4548.000000  \n",
              "75%    1096.000000  4776.500000  5956.000000  \n",
              "max    3410.000000  6946.000000  8714.000000  "
            ]
          },
          "execution_count": 13,
          "metadata": {},
          "output_type": "execute_result"
        }
      ],
      "source": [
        "# memeriksa parameter statistik dari kolom numerik yang terdapat didalam day_df\n",
        "day_df.describe()"
      ]
    },
    {
      "cell_type": "code",
      "execution_count": 14,
      "metadata": {
        "colab": {
          "base_uri": "https://localhost:8080/",
          "height": 320
        },
        "id": "uM9IchckL2r8",
        "outputId": "5a79d715-c3c0-4413-9b9f-6cd27f7b9b35"
      },
      "outputs": [
        {
          "data": {
            "text/html": [
              "<div>\n",
              "<style scoped>\n",
              "    .dataframe tbody tr th:only-of-type {\n",
              "        vertical-align: middle;\n",
              "    }\n",
              "\n",
              "    .dataframe tbody tr th {\n",
              "        vertical-align: top;\n",
              "    }\n",
              "\n",
              "    .dataframe thead th {\n",
              "        text-align: right;\n",
              "    }\n",
              "</style>\n",
              "<table border=\"1\" class=\"dataframe\">\n",
              "  <thead>\n",
              "    <tr style=\"text-align: right;\">\n",
              "      <th></th>\n",
              "      <th>instant</th>\n",
              "      <th>season</th>\n",
              "      <th>yr</th>\n",
              "      <th>mnth</th>\n",
              "      <th>hr</th>\n",
              "      <th>holiday</th>\n",
              "      <th>weekday</th>\n",
              "      <th>workingday</th>\n",
              "      <th>weathersit</th>\n",
              "      <th>temp</th>\n",
              "      <th>atemp</th>\n",
              "      <th>hum</th>\n",
              "      <th>windspeed</th>\n",
              "      <th>casual</th>\n",
              "      <th>registered</th>\n",
              "      <th>cnt</th>\n",
              "    </tr>\n",
              "  </thead>\n",
              "  <tbody>\n",
              "    <tr>\n",
              "      <th>count</th>\n",
              "      <td>17379.0000</td>\n",
              "      <td>17379.000000</td>\n",
              "      <td>17379.000000</td>\n",
              "      <td>17379.000000</td>\n",
              "      <td>17379.000000</td>\n",
              "      <td>17379.000000</td>\n",
              "      <td>17379.000000</td>\n",
              "      <td>17379.000000</td>\n",
              "      <td>17379.000000</td>\n",
              "      <td>17379.000000</td>\n",
              "      <td>17379.000000</td>\n",
              "      <td>17379.000000</td>\n",
              "      <td>17379.000000</td>\n",
              "      <td>17379.000000</td>\n",
              "      <td>17379.000000</td>\n",
              "      <td>17379.000000</td>\n",
              "    </tr>\n",
              "    <tr>\n",
              "      <th>mean</th>\n",
              "      <td>8690.0000</td>\n",
              "      <td>2.501640</td>\n",
              "      <td>0.502561</td>\n",
              "      <td>6.537775</td>\n",
              "      <td>11.546752</td>\n",
              "      <td>0.028770</td>\n",
              "      <td>3.003683</td>\n",
              "      <td>0.682721</td>\n",
              "      <td>1.425283</td>\n",
              "      <td>0.496987</td>\n",
              "      <td>0.475775</td>\n",
              "      <td>0.627229</td>\n",
              "      <td>0.190098</td>\n",
              "      <td>35.676218</td>\n",
              "      <td>153.786869</td>\n",
              "      <td>189.463088</td>\n",
              "    </tr>\n",
              "    <tr>\n",
              "      <th>std</th>\n",
              "      <td>5017.0295</td>\n",
              "      <td>1.106918</td>\n",
              "      <td>0.500008</td>\n",
              "      <td>3.438776</td>\n",
              "      <td>6.914405</td>\n",
              "      <td>0.167165</td>\n",
              "      <td>2.005771</td>\n",
              "      <td>0.465431</td>\n",
              "      <td>0.639357</td>\n",
              "      <td>0.192556</td>\n",
              "      <td>0.171850</td>\n",
              "      <td>0.192930</td>\n",
              "      <td>0.122340</td>\n",
              "      <td>49.305030</td>\n",
              "      <td>151.357286</td>\n",
              "      <td>181.387599</td>\n",
              "    </tr>\n",
              "    <tr>\n",
              "      <th>min</th>\n",
              "      <td>1.0000</td>\n",
              "      <td>1.000000</td>\n",
              "      <td>0.000000</td>\n",
              "      <td>1.000000</td>\n",
              "      <td>0.000000</td>\n",
              "      <td>0.000000</td>\n",
              "      <td>0.000000</td>\n",
              "      <td>0.000000</td>\n",
              "      <td>1.000000</td>\n",
              "      <td>0.020000</td>\n",
              "      <td>0.000000</td>\n",
              "      <td>0.000000</td>\n",
              "      <td>0.000000</td>\n",
              "      <td>0.000000</td>\n",
              "      <td>0.000000</td>\n",
              "      <td>1.000000</td>\n",
              "    </tr>\n",
              "    <tr>\n",
              "      <th>25%</th>\n",
              "      <td>4345.5000</td>\n",
              "      <td>2.000000</td>\n",
              "      <td>0.000000</td>\n",
              "      <td>4.000000</td>\n",
              "      <td>6.000000</td>\n",
              "      <td>0.000000</td>\n",
              "      <td>1.000000</td>\n",
              "      <td>0.000000</td>\n",
              "      <td>1.000000</td>\n",
              "      <td>0.340000</td>\n",
              "      <td>0.333300</td>\n",
              "      <td>0.480000</td>\n",
              "      <td>0.104500</td>\n",
              "      <td>4.000000</td>\n",
              "      <td>34.000000</td>\n",
              "      <td>40.000000</td>\n",
              "    </tr>\n",
              "    <tr>\n",
              "      <th>50%</th>\n",
              "      <td>8690.0000</td>\n",
              "      <td>3.000000</td>\n",
              "      <td>1.000000</td>\n",
              "      <td>7.000000</td>\n",
              "      <td>12.000000</td>\n",
              "      <td>0.000000</td>\n",
              "      <td>3.000000</td>\n",
              "      <td>1.000000</td>\n",
              "      <td>1.000000</td>\n",
              "      <td>0.500000</td>\n",
              "      <td>0.484800</td>\n",
              "      <td>0.630000</td>\n",
              "      <td>0.194000</td>\n",
              "      <td>17.000000</td>\n",
              "      <td>115.000000</td>\n",
              "      <td>142.000000</td>\n",
              "    </tr>\n",
              "    <tr>\n",
              "      <th>75%</th>\n",
              "      <td>13034.5000</td>\n",
              "      <td>3.000000</td>\n",
              "      <td>1.000000</td>\n",
              "      <td>10.000000</td>\n",
              "      <td>18.000000</td>\n",
              "      <td>0.000000</td>\n",
              "      <td>5.000000</td>\n",
              "      <td>1.000000</td>\n",
              "      <td>2.000000</td>\n",
              "      <td>0.660000</td>\n",
              "      <td>0.621200</td>\n",
              "      <td>0.780000</td>\n",
              "      <td>0.253700</td>\n",
              "      <td>48.000000</td>\n",
              "      <td>220.000000</td>\n",
              "      <td>281.000000</td>\n",
              "    </tr>\n",
              "    <tr>\n",
              "      <th>max</th>\n",
              "      <td>17379.0000</td>\n",
              "      <td>4.000000</td>\n",
              "      <td>1.000000</td>\n",
              "      <td>12.000000</td>\n",
              "      <td>23.000000</td>\n",
              "      <td>1.000000</td>\n",
              "      <td>6.000000</td>\n",
              "      <td>1.000000</td>\n",
              "      <td>4.000000</td>\n",
              "      <td>1.000000</td>\n",
              "      <td>1.000000</td>\n",
              "      <td>1.000000</td>\n",
              "      <td>0.850700</td>\n",
              "      <td>367.000000</td>\n",
              "      <td>886.000000</td>\n",
              "      <td>977.000000</td>\n",
              "    </tr>\n",
              "  </tbody>\n",
              "</table>\n",
              "</div>"
            ],
            "text/plain": [
              "          instant        season            yr          mnth            hr  \\\n",
              "count  17379.0000  17379.000000  17379.000000  17379.000000  17379.000000   \n",
              "mean    8690.0000      2.501640      0.502561      6.537775     11.546752   \n",
              "std     5017.0295      1.106918      0.500008      3.438776      6.914405   \n",
              "min        1.0000      1.000000      0.000000      1.000000      0.000000   \n",
              "25%     4345.5000      2.000000      0.000000      4.000000      6.000000   \n",
              "50%     8690.0000      3.000000      1.000000      7.000000     12.000000   \n",
              "75%    13034.5000      3.000000      1.000000     10.000000     18.000000   \n",
              "max    17379.0000      4.000000      1.000000     12.000000     23.000000   \n",
              "\n",
              "            holiday       weekday    workingday    weathersit          temp  \\\n",
              "count  17379.000000  17379.000000  17379.000000  17379.000000  17379.000000   \n",
              "mean       0.028770      3.003683      0.682721      1.425283      0.496987   \n",
              "std        0.167165      2.005771      0.465431      0.639357      0.192556   \n",
              "min        0.000000      0.000000      0.000000      1.000000      0.020000   \n",
              "25%        0.000000      1.000000      0.000000      1.000000      0.340000   \n",
              "50%        0.000000      3.000000      1.000000      1.000000      0.500000   \n",
              "75%        0.000000      5.000000      1.000000      2.000000      0.660000   \n",
              "max        1.000000      6.000000      1.000000      4.000000      1.000000   \n",
              "\n",
              "              atemp           hum     windspeed        casual    registered  \\\n",
              "count  17379.000000  17379.000000  17379.000000  17379.000000  17379.000000   \n",
              "mean       0.475775      0.627229      0.190098     35.676218    153.786869   \n",
              "std        0.171850      0.192930      0.122340     49.305030    151.357286   \n",
              "min        0.000000      0.000000      0.000000      0.000000      0.000000   \n",
              "25%        0.333300      0.480000      0.104500      4.000000     34.000000   \n",
              "50%        0.484800      0.630000      0.194000     17.000000    115.000000   \n",
              "75%        0.621200      0.780000      0.253700     48.000000    220.000000   \n",
              "max        1.000000      1.000000      0.850700    367.000000    886.000000   \n",
              "\n",
              "                cnt  \n",
              "count  17379.000000  \n",
              "mean     189.463088  \n",
              "std      181.387599  \n",
              "min        1.000000  \n",
              "25%       40.000000  \n",
              "50%      142.000000  \n",
              "75%      281.000000  \n",
              "max      977.000000  "
            ]
          },
          "execution_count": 14,
          "metadata": {},
          "output_type": "execute_result"
        }
      ],
      "source": [
        "# memeriksa parameter statistik dari kolom numerik yang terdapat di dalam hour_df\n",
        "hour_df.describe()"
      ]
    },
    {
      "cell_type": "markdown",
      "metadata": {
        "id": "EhN5R4hr8DC1"
      },
      "source": [
        "### Cleaning Data"
      ]
    },
    {
      "cell_type": "markdown",
      "metadata": {
        "id": "c_deuRrPRbBA"
      },
      "source": [
        "Berdasarkan informasi data yang telah kita kumpulkan dan kita nilai dapat dilihat tidak ada missing value,duplikat data, dan juga data terlihat normal tanpa outlier. Maka kita tidak perlu memodifikasi nilai data. Namun ada beberapa hal yang perlu kita perbaharui yaitu sebagai berikut :\n",
        "* men drop data yang tidak relevan atau tidak digunakan. Kolom yang di maksud adalah kolom instant.\n",
        "* kita akan menghandling tipe data dteday yang tadinya 'object' akan kita ubah menjadi 'datetime'.\n",
        "* Mengganti nama kolom agar lebih mudah dibaca.\n",
        "* Berdasarkan informasi yang kita dapatkan pada kedua dataframe diatas masih terdapat beberapa kolom yang tipenya perlu kita ganti, disini kolom yang kita perlu ganti adalah kolom 'year', 'season', 'mnth', 'holiday', 'workingday', 'weekday', 'weathersit' menjadi tipe kategori.\n",
        "* Mengkonversi isi kolom agar mudah dipahami."
      ]
    },
    {
      "cell_type": "markdown",
      "metadata": {
        "id": "GNZjvK3sgEnT"
      },
      "source": [
        "**> Mendrop Kolom yang tidak diperlukan**"
      ]
    },
    {
      "cell_type": "code",
      "execution_count": 15,
      "metadata": {
        "id": "DxG2SgqWgLAV"
      },
      "outputs": [],
      "source": [
        "#Men drop kolom instant pada dataframe day_df dan hour_df\n",
        "day_df = day_df.drop(columns = ['instant'])\n",
        "hour_df = hour_df.drop(columns = ['instant'])"
      ]
    },
    {
      "cell_type": "markdown",
      "metadata": {
        "id": "4bItwdHZWXXu"
      },
      "source": [
        "**> Menkonversi tipe data 'object' menjadi 'datetime'**\n"
      ]
    },
    {
      "cell_type": "code",
      "execution_count": 16,
      "metadata": {
        "id": "jVnYpprE9Evz"
      },
      "outputs": [],
      "source": [
        "# menghandling tipe data dteday yang tadinya 'object' akan kita ubah menjadi 'datetime'\n",
        "day_df['dteday'] = pd.to_datetime(day_df['dteday'])\n",
        "hour_df['dteday'] = pd.to_datetime(hour_df['dteday'])"
      ]
    },
    {
      "cell_type": "code",
      "execution_count": 17,
      "metadata": {
        "colab": {
          "base_uri": "https://localhost:8080/"
        },
        "id": "WRro7L7RWutT",
        "outputId": "d82a064c-d76d-428c-c4c0-8a6a041c9f5d"
      },
      "outputs": [
        {
          "name": "stdout",
          "output_type": "stream",
          "text": [
            "<class 'pandas.core.frame.DataFrame'>\n",
            "RangeIndex: 731 entries, 0 to 730\n",
            "Data columns (total 15 columns):\n",
            " #   Column      Non-Null Count  Dtype         \n",
            "---  ------      --------------  -----         \n",
            " 0   dteday      731 non-null    datetime64[ns]\n",
            " 1   season      731 non-null    int64         \n",
            " 2   yr          731 non-null    int64         \n",
            " 3   mnth        731 non-null    int64         \n",
            " 4   holiday     731 non-null    int64         \n",
            " 5   weekday     731 non-null    int64         \n",
            " 6   workingday  731 non-null    int64         \n",
            " 7   weathersit  731 non-null    int64         \n",
            " 8   temp        731 non-null    float64       \n",
            " 9   atemp       731 non-null    float64       \n",
            " 10  hum         731 non-null    float64       \n",
            " 11  windspeed   731 non-null    float64       \n",
            " 12  casual      731 non-null    int64         \n",
            " 13  registered  731 non-null    int64         \n",
            " 14  cnt         731 non-null    int64         \n",
            "dtypes: datetime64[ns](1), float64(4), int64(10)\n",
            "memory usage: 85.8 KB\n",
            "<class 'pandas.core.frame.DataFrame'>\n",
            "RangeIndex: 17379 entries, 0 to 17378\n",
            "Data columns (total 16 columns):\n",
            " #   Column      Non-Null Count  Dtype         \n",
            "---  ------      --------------  -----         \n",
            " 0   dteday      17379 non-null  datetime64[ns]\n",
            " 1   season      17379 non-null  int64         \n",
            " 2   yr          17379 non-null  int64         \n",
            " 3   mnth        17379 non-null  int64         \n",
            " 4   hr          17379 non-null  int64         \n",
            " 5   holiday     17379 non-null  int64         \n",
            " 6   weekday     17379 non-null  int64         \n",
            " 7   workingday  17379 non-null  int64         \n",
            " 8   weathersit  17379 non-null  int64         \n",
            " 9   temp        17379 non-null  float64       \n",
            " 10  atemp       17379 non-null  float64       \n",
            " 11  hum         17379 non-null  float64       \n",
            " 12  windspeed   17379 non-null  float64       \n",
            " 13  casual      17379 non-null  int64         \n",
            " 14  registered  17379 non-null  int64         \n",
            " 15  cnt         17379 non-null  int64         \n",
            "dtypes: datetime64[ns](1), float64(4), int64(11)\n",
            "memory usage: 2.1 MB\n"
          ]
        }
      ],
      "source": [
        "#Melihat perubahan data tipe pada kolom 'dteday' di dataframe day_df dan hour_df\n",
        "day_df.info()\n",
        "hour_df.info()"
      ]
    },
    {
      "cell_type": "markdown",
      "metadata": {
        "id": "DseUueSwYnId"
      },
      "source": [
        "**> Merubah nama kolom menjadi lebih mudah dimengerti**"
      ]
    },
    {
      "cell_type": "code",
      "execution_count": 18,
      "metadata": {
        "id": "Lww9LZ4OYsA0"
      },
      "outputs": [],
      "source": [
        "# Mengganti nama kolom agar lebih mudah dibaca di dataset day_df\n",
        "day_df = day_df.rename(columns = {'dteday':'date',\n",
        "                                  'weekday':'day_name',\n",
        "                                  'weathersit':'weather',\n",
        "                                  'yr':'year','mnth':'month',\n",
        "                                  'hum':'humidity','cnt':'count'})"
      ]
    },
    {
      "cell_type": "code",
      "execution_count": 19,
      "metadata": {
        "id": "t-N8lWNMh0Bt"
      },
      "outputs": [],
      "source": [
        "# Mengganti nama kolom agar lebih mudah dibaca di dataset hour_df\n",
        "hour_df = hour_df.rename(columns = {'dteday':'date',\n",
        "                                    'weekday':'day_name',\n",
        "                                    'weathersit':'weather',\n",
        "                                    'yr':'year','mnth':'month',\n",
        "                                    'hr':'hour','hum':'humidity',\n",
        "                                    'cnt':'count'})"
      ]
    },
    {
      "cell_type": "markdown",
      "metadata": {
        "id": "FgeIvlnZXNb7"
      },
      "source": [
        "**> Merubah Kolom INT menjadi categorical**"
      ]
    },
    {
      "cell_type": "code",
      "execution_count": 20,
      "metadata": {
        "id": "lqfcz9WpXY6O"
      },
      "outputs": [],
      "source": [
        "#Mendeklarasi kolom kolom di day_df yang ingin dirubah menjadi tipe kategori ke dalam list\n",
        "#Kemudian dirubah dengan menggunakan looping\n",
        "columns_day = ['season' ,'year' ,'month' ,'holiday' ,'day_name' ,'workingday' ,'weather']\n",
        "\n",
        "for col in columns_day:\n",
        "    day_df[col] = day_df[col].astype('category')\n",
        "\n",
        "\n",
        "#Mendeklarasi kolom kolom di hour_df yang ingin dirubah menjadi tipe kategori ke dalam list\n",
        "#Kemudian dirubah dengan menggunakan looping\n",
        "columns_hour = ['season' ,'year', 'month'  ,'holiday' ,'day_name' ,'workingday' ,'weather']\n",
        "\n",
        "for col in columns_hour:\n",
        "    hour_df[col] = hour_df[col].astype('category')\n"
      ]
    },
    {
      "cell_type": "markdown",
      "metadata": {
        "id": "v34I6q-3lyut"
      },
      "source": [
        "**> Mengkonversi isi kolom agar lebih mudah dipahami**"
      ]
    },
    {
      "cell_type": "code",
      "execution_count": 21,
      "metadata": {
        "id": "orRV8L7al4OW"
      },
      "outputs": [
        {
          "name": "stderr",
          "output_type": "stream",
          "text": [
            "C:\\Users\\lutfh\\AppData\\Local\\Temp\\ipykernel_10040\\1374621902.py:2: FutureWarning: A value is trying to be set on a copy of a DataFrame or Series through chained assignment using an inplace method.\n",
            "The behavior will change in pandas 3.0. This inplace method will never work because the intermediate object on which we are setting values always behaves as a copy.\n",
            "\n",
            "For example, when doing 'df[col].method(value, inplace=True)', try using 'df.method({col: value}, inplace=True)' or df[col] = df[col].method(value) instead, to perform the operation inplace on the original object.\n",
            "\n",
            "\n",
            "  day_df.season.replace((1,2,3,4), ('Spring','Summer','Fall','Winter'), inplace=True)\n",
            "C:\\Users\\lutfh\\AppData\\Local\\Temp\\ipykernel_10040\\1374621902.py:2: FutureWarning: The behavior of Series.replace (and DataFrame.replace) with CategoricalDtype is deprecated. In a future version, replace will only be used for cases that preserve the categories. To change the categories, use ser.cat.rename_categories instead.\n",
            "  day_df.season.replace((1,2,3,4), ('Spring','Summer','Fall','Winter'), inplace=True)\n",
            "C:\\Users\\lutfh\\AppData\\Local\\Temp\\ipykernel_10040\\1374621902.py:3: FutureWarning: A value is trying to be set on a copy of a DataFrame or Series through chained assignment using an inplace method.\n",
            "The behavior will change in pandas 3.0. This inplace method will never work because the intermediate object on which we are setting values always behaves as a copy.\n",
            "\n",
            "For example, when doing 'df[col].method(value, inplace=True)', try using 'df.method({col: value}, inplace=True)' or df[col] = df[col].method(value) instead, to perform the operation inplace on the original object.\n",
            "\n",
            "\n",
            "  hour_df.season.replace((1,2,3,4), ('Spring','Summer','Fall','Winter'), inplace=True)\n",
            "C:\\Users\\lutfh\\AppData\\Local\\Temp\\ipykernel_10040\\1374621902.py:3: FutureWarning: The behavior of Series.replace (and DataFrame.replace) with CategoricalDtype is deprecated. In a future version, replace will only be used for cases that preserve the categories. To change the categories, use ser.cat.rename_categories instead.\n",
            "  hour_df.season.replace((1,2,3,4), ('Spring','Summer','Fall','Winter'), inplace=True)\n",
            "C:\\Users\\lutfh\\AppData\\Local\\Temp\\ipykernel_10040\\1374621902.py:6: FutureWarning: A value is trying to be set on a copy of a DataFrame or Series through chained assignment using an inplace method.\n",
            "The behavior will change in pandas 3.0. This inplace method will never work because the intermediate object on which we are setting values always behaves as a copy.\n",
            "\n",
            "For example, when doing 'df[col].method(value, inplace=True)', try using 'df.method({col: value}, inplace=True)' or df[col] = df[col].method(value) instead, to perform the operation inplace on the original object.\n",
            "\n",
            "\n",
            "  day_df.month.replace((1,2,3,4,5,6,7,8,9,10,11,12),('Jan','Feb','Mar','Apr','May','Jun','Jul','Aug','Sep','Oct','Nov','Dec'), inplace=True)\n",
            "C:\\Users\\lutfh\\AppData\\Local\\Temp\\ipykernel_10040\\1374621902.py:6: FutureWarning: The behavior of Series.replace (and DataFrame.replace) with CategoricalDtype is deprecated. In a future version, replace will only be used for cases that preserve the categories. To change the categories, use ser.cat.rename_categories instead.\n",
            "  day_df.month.replace((1,2,3,4,5,6,7,8,9,10,11,12),('Jan','Feb','Mar','Apr','May','Jun','Jul','Aug','Sep','Oct','Nov','Dec'), inplace=True)\n",
            "C:\\Users\\lutfh\\AppData\\Local\\Temp\\ipykernel_10040\\1374621902.py:7: FutureWarning: A value is trying to be set on a copy of a DataFrame or Series through chained assignment using an inplace method.\n",
            "The behavior will change in pandas 3.0. This inplace method will never work because the intermediate object on which we are setting values always behaves as a copy.\n",
            "\n",
            "For example, when doing 'df[col].method(value, inplace=True)', try using 'df.method({col: value}, inplace=True)' or df[col] = df[col].method(value) instead, to perform the operation inplace on the original object.\n",
            "\n",
            "\n",
            "  hour_df.month.replace((1,2,3,4,5,6,7,8,9,10,11,12),('Jan','Feb','Mar','Apr','May','Jun','Jul','Aug','Sep','Oct','Nov','Dec'), inplace=True)\n",
            "C:\\Users\\lutfh\\AppData\\Local\\Temp\\ipykernel_10040\\1374621902.py:7: FutureWarning: The behavior of Series.replace (and DataFrame.replace) with CategoricalDtype is deprecated. In a future version, replace will only be used for cases that preserve the categories. To change the categories, use ser.cat.rename_categories instead.\n",
            "  hour_df.month.replace((1,2,3,4,5,6,7,8,9,10,11,12),('Jan','Feb','Mar','Apr','May','Jun','Jul','Aug','Sep','Oct','Nov','Dec'), inplace=True)\n",
            "C:\\Users\\lutfh\\AppData\\Local\\Temp\\ipykernel_10040\\1374621902.py:10: FutureWarning: A value is trying to be set on a copy of a DataFrame or Series through chained assignment using an inplace method.\n",
            "The behavior will change in pandas 3.0. This inplace method will never work because the intermediate object on which we are setting values always behaves as a copy.\n",
            "\n",
            "For example, when doing 'df[col].method(value, inplace=True)', try using 'df.method({col: value}, inplace=True)' or df[col] = df[col].method(value) instead, to perform the operation inplace on the original object.\n",
            "\n",
            "\n",
            "  day_df.weather.replace((1,2,3,4), ('Clear','Misty','Light_rainsnow','Heavy_rainsnow'), inplace=True)\n",
            "C:\\Users\\lutfh\\AppData\\Local\\Temp\\ipykernel_10040\\1374621902.py:10: FutureWarning: The behavior of Series.replace (and DataFrame.replace) with CategoricalDtype is deprecated. In a future version, replace will only be used for cases that preserve the categories. To change the categories, use ser.cat.rename_categories instead.\n",
            "  day_df.weather.replace((1,2,3,4), ('Clear','Misty','Light_rainsnow','Heavy_rainsnow'), inplace=True)\n",
            "C:\\Users\\lutfh\\AppData\\Local\\Temp\\ipykernel_10040\\1374621902.py:11: FutureWarning: A value is trying to be set on a copy of a DataFrame or Series through chained assignment using an inplace method.\n",
            "The behavior will change in pandas 3.0. This inplace method will never work because the intermediate object on which we are setting values always behaves as a copy.\n",
            "\n",
            "For example, when doing 'df[col].method(value, inplace=True)', try using 'df.method({col: value}, inplace=True)' or df[col] = df[col].method(value) instead, to perform the operation inplace on the original object.\n",
            "\n",
            "\n",
            "  hour_df.weather.replace((1,2,3,4), ('Clear','Misty','Light_rainsnow','Heavy_rainsnow'), inplace=True)\n",
            "C:\\Users\\lutfh\\AppData\\Local\\Temp\\ipykernel_10040\\1374621902.py:11: FutureWarning: The behavior of Series.replace (and DataFrame.replace) with CategoricalDtype is deprecated. In a future version, replace will only be used for cases that preserve the categories. To change the categories, use ser.cat.rename_categories instead.\n",
            "  hour_df.weather.replace((1,2,3,4), ('Clear','Misty','Light_rainsnow','Heavy_rainsnow'), inplace=True)\n",
            "C:\\Users\\lutfh\\AppData\\Local\\Temp\\ipykernel_10040\\1374621902.py:14: FutureWarning: A value is trying to be set on a copy of a DataFrame or Series through chained assignment using an inplace method.\n",
            "The behavior will change in pandas 3.0. This inplace method will never work because the intermediate object on which we are setting values always behaves as a copy.\n",
            "\n",
            "For example, when doing 'df[col].method(value, inplace=True)', try using 'df.method({col: value}, inplace=True)' or df[col] = df[col].method(value) instead, to perform the operation inplace on the original object.\n",
            "\n",
            "\n",
            "  day_df.day_name.replace((0,1,2,3,4,5,6), ('Sunday','Monday','Tuesday','Wednesday','Thursday','Friday','Saturday'), inplace=True)\n",
            "C:\\Users\\lutfh\\AppData\\Local\\Temp\\ipykernel_10040\\1374621902.py:14: FutureWarning: The behavior of Series.replace (and DataFrame.replace) with CategoricalDtype is deprecated. In a future version, replace will only be used for cases that preserve the categories. To change the categories, use ser.cat.rename_categories instead.\n",
            "  day_df.day_name.replace((0,1,2,3,4,5,6), ('Sunday','Monday','Tuesday','Wednesday','Thursday','Friday','Saturday'), inplace=True)\n",
            "C:\\Users\\lutfh\\AppData\\Local\\Temp\\ipykernel_10040\\1374621902.py:15: FutureWarning: A value is trying to be set on a copy of a DataFrame or Series through chained assignment using an inplace method.\n",
            "The behavior will change in pandas 3.0. This inplace method will never work because the intermediate object on which we are setting values always behaves as a copy.\n",
            "\n",
            "For example, when doing 'df[col].method(value, inplace=True)', try using 'df.method({col: value}, inplace=True)' or df[col] = df[col].method(value) instead, to perform the operation inplace on the original object.\n",
            "\n",
            "\n",
            "  hour_df.day_name.replace((0,1,2,3,4,5,6), ('Sunday','Monday','Tuesday','Wednesday','Thursday','Friday','Saturday'), inplace=True)\n",
            "C:\\Users\\lutfh\\AppData\\Local\\Temp\\ipykernel_10040\\1374621902.py:15: FutureWarning: The behavior of Series.replace (and DataFrame.replace) with CategoricalDtype is deprecated. In a future version, replace will only be used for cases that preserve the categories. To change the categories, use ser.cat.rename_categories instead.\n",
            "  hour_df.day_name.replace((0,1,2,3,4,5,6), ('Sunday','Monday','Tuesday','Wednesday','Thursday','Friday','Saturday'), inplace=True)\n",
            "C:\\Users\\lutfh\\AppData\\Local\\Temp\\ipykernel_10040\\1374621902.py:18: FutureWarning: A value is trying to be set on a copy of a DataFrame or Series through chained assignment using an inplace method.\n",
            "The behavior will change in pandas 3.0. This inplace method will never work because the intermediate object on which we are setting values always behaves as a copy.\n",
            "\n",
            "For example, when doing 'df[col].method(value, inplace=True)', try using 'df.method({col: value}, inplace=True)' or df[col] = df[col].method(value) instead, to perform the operation inplace on the original object.\n",
            "\n",
            "\n",
            "  day_df.year.replace((0,1), ('2011','2012'), inplace=True)\n",
            "C:\\Users\\lutfh\\AppData\\Local\\Temp\\ipykernel_10040\\1374621902.py:18: FutureWarning: The behavior of Series.replace (and DataFrame.replace) with CategoricalDtype is deprecated. In a future version, replace will only be used for cases that preserve the categories. To change the categories, use ser.cat.rename_categories instead.\n",
            "  day_df.year.replace((0,1), ('2011','2012'), inplace=True)\n",
            "C:\\Users\\lutfh\\AppData\\Local\\Temp\\ipykernel_10040\\1374621902.py:19: FutureWarning: A value is trying to be set on a copy of a DataFrame or Series through chained assignment using an inplace method.\n",
            "The behavior will change in pandas 3.0. This inplace method will never work because the intermediate object on which we are setting values always behaves as a copy.\n",
            "\n",
            "For example, when doing 'df[col].method(value, inplace=True)', try using 'df.method({col: value}, inplace=True)' or df[col] = df[col].method(value) instead, to perform the operation inplace on the original object.\n",
            "\n",
            "\n",
            "  hour_df.year.replace((0,1), ('2011','2012'), inplace=True)\n",
            "C:\\Users\\lutfh\\AppData\\Local\\Temp\\ipykernel_10040\\1374621902.py:19: FutureWarning: The behavior of Series.replace (and DataFrame.replace) with CategoricalDtype is deprecated. In a future version, replace will only be used for cases that preserve the categories. To change the categories, use ser.cat.rename_categories instead.\n",
            "  hour_df.year.replace((0,1), ('2011','2012'), inplace=True)\n"
          ]
        }
      ],
      "source": [
        "# konversi season menjadi: 1:Spring, 2:Summer, 3:Fall, 4:Winter\n",
        "day_df.season.replace((1,2,3,4), ('Spring','Summer','Fall','Winter'), inplace=True)\n",
        "hour_df.season.replace((1,2,3,4), ('Spring','Summer','Fall','Winter'), inplace=True)\n",
        "\n",
        "# konversi month menjadi: 1:Jan, 2:Feb, 3:Mar, 4:Apr, 5:May, 6:Jun, 7:Jul, 8:Aug, 9:Sep, 10:Oct, 11:Nov, 12:Dec\n",
        "day_df.month.replace((1,2,3,4,5,6,7,8,9,10,11,12),('Jan','Feb','Mar','Apr','May','Jun','Jul','Aug','Sep','Oct','Nov','Dec'), inplace=True)\n",
        "hour_df.month.replace((1,2,3,4,5,6,7,8,9,10,11,12),('Jan','Feb','Mar','Apr','May','Jun','Jul','Aug','Sep','Oct','Nov','Dec'), inplace=True)\n",
        "\n",
        "# konversi weather menjadi: 1:Clear, 2:Misty, 3:Light_RainSnow 4:Heavy_RainSnow\n",
        "day_df.weather.replace((1,2,3,4), ('Clear','Misty','Light_rainsnow','Heavy_rainsnow'), inplace=True)\n",
        "hour_df.weather.replace((1,2,3,4), ('Clear','Misty','Light_rainsnow','Heavy_rainsnow'), inplace=True)\n",
        "\n",
        "# konversi day_name menjadi: 0:Sun, 1:Mon, 2:Tue, 3:Wed, 4:Thu, 5:Fri, 6:Sat\n",
        "day_df.day_name.replace((0,1,2,3,4,5,6), ('Sunday','Monday','Tuesday','Wednesday','Thursday','Friday','Saturday'), inplace=True)\n",
        "hour_df.day_name.replace((0,1,2,3,4,5,6), ('Sunday','Monday','Tuesday','Wednesday','Thursday','Friday','Saturday'), inplace=True)\n",
        "\n",
        "# konversi year menjadi: 0:2011, 1:2012\n",
        "day_df.year.replace((0,1), ('2011','2012'), inplace=True)\n",
        "hour_df.year.replace((0,1), ('2011','2012'), inplace=True)"
      ]
    },
    {
      "cell_type": "markdown",
      "metadata": {
        "id": "1mrsFsNwm5as"
      },
      "source": [
        "Setelah Melakukan beberapa kode diatas maka dapat dilihat perubahan yang telah kita lakukan yaitu:\n",
        "* Berhasil Men-drop kolom 'instant' pada kedua dataframe dimana kolom ini tidak digunakan.\n",
        "* Telah merubah tide data pada kolom 'dtedate' dari **object** menjadi **datetime**\n",
        "* Merubah beberapa nama kolom sehingga menjadi lebih mudah dimengerti\n",
        "* Berhasil Merubah beberapa kolom dari tipe INT menjadi kategorial yang relevan\n",
        "* Mengkonversi beberapa nilai kolom kategorial yang isinya masih angka menjadi string sesuai dengan konteks kolom.\n"
      ]
    },
    {
      "cell_type": "markdown",
      "metadata": {
        "id": "gp-Y6wU38DC1"
      },
      "source": [
        "## Exploratory Data Analysis (EDA)"
      ]
    },
    {
      "cell_type": "markdown",
      "metadata": {
        "id": "MW7WF2kr8DC1"
      },
      "source": [
        "### Explore ..."
      ]
    },
    {
      "cell_type": "markdown",
      "metadata": {
        "id": "8pEcOoPe1fUw"
      },
      "source": [
        " **Explore data day_df**"
      ]
    },
    {
      "cell_type": "code",
      "execution_count": 22,
      "metadata": {
        "colab": {
          "base_uri": "https://localhost:8080/",
          "height": 616
        },
        "id": "e9CQCZjk8DC2",
        "outputId": "84d9fa66-c3e9-476c-b691-f0bf629f6d48"
      },
      "outputs": [
        {
          "data": {
            "text/html": [
              "<div>\n",
              "<style scoped>\n",
              "    .dataframe tbody tr th:only-of-type {\n",
              "        vertical-align: middle;\n",
              "    }\n",
              "\n",
              "    .dataframe tbody tr th {\n",
              "        vertical-align: top;\n",
              "    }\n",
              "\n",
              "    .dataframe thead th {\n",
              "        text-align: right;\n",
              "    }\n",
              "</style>\n",
              "<table border=\"1\" class=\"dataframe\">\n",
              "  <thead>\n",
              "    <tr style=\"text-align: right;\">\n",
              "      <th></th>\n",
              "      <th>date</th>\n",
              "      <th>season</th>\n",
              "      <th>year</th>\n",
              "      <th>month</th>\n",
              "      <th>holiday</th>\n",
              "      <th>day_name</th>\n",
              "      <th>workingday</th>\n",
              "      <th>weather</th>\n",
              "      <th>temp</th>\n",
              "      <th>atemp</th>\n",
              "      <th>humidity</th>\n",
              "      <th>windspeed</th>\n",
              "      <th>casual</th>\n",
              "      <th>registered</th>\n",
              "      <th>count</th>\n",
              "    </tr>\n",
              "  </thead>\n",
              "  <tbody>\n",
              "    <tr>\n",
              "      <th>count</th>\n",
              "      <td>731</td>\n",
              "      <td>731</td>\n",
              "      <td>731</td>\n",
              "      <td>731</td>\n",
              "      <td>731.0</td>\n",
              "      <td>731</td>\n",
              "      <td>731.0</td>\n",
              "      <td>731</td>\n",
              "      <td>731.000000</td>\n",
              "      <td>731.000000</td>\n",
              "      <td>731.000000</td>\n",
              "      <td>731.000000</td>\n",
              "      <td>731.000000</td>\n",
              "      <td>731.000000</td>\n",
              "      <td>731.000000</td>\n",
              "    </tr>\n",
              "    <tr>\n",
              "      <th>unique</th>\n",
              "      <td>NaN</td>\n",
              "      <td>4</td>\n",
              "      <td>2</td>\n",
              "      <td>12</td>\n",
              "      <td>2.0</td>\n",
              "      <td>7</td>\n",
              "      <td>2.0</td>\n",
              "      <td>3</td>\n",
              "      <td>NaN</td>\n",
              "      <td>NaN</td>\n",
              "      <td>NaN</td>\n",
              "      <td>NaN</td>\n",
              "      <td>NaN</td>\n",
              "      <td>NaN</td>\n",
              "      <td>NaN</td>\n",
              "    </tr>\n",
              "    <tr>\n",
              "      <th>top</th>\n",
              "      <td>NaN</td>\n",
              "      <td>Fall</td>\n",
              "      <td>2012</td>\n",
              "      <td>Jan</td>\n",
              "      <td>0.0</td>\n",
              "      <td>Sunday</td>\n",
              "      <td>1.0</td>\n",
              "      <td>Clear</td>\n",
              "      <td>NaN</td>\n",
              "      <td>NaN</td>\n",
              "      <td>NaN</td>\n",
              "      <td>NaN</td>\n",
              "      <td>NaN</td>\n",
              "      <td>NaN</td>\n",
              "      <td>NaN</td>\n",
              "    </tr>\n",
              "    <tr>\n",
              "      <th>freq</th>\n",
              "      <td>NaN</td>\n",
              "      <td>188</td>\n",
              "      <td>366</td>\n",
              "      <td>62</td>\n",
              "      <td>710.0</td>\n",
              "      <td>105</td>\n",
              "      <td>500.0</td>\n",
              "      <td>463</td>\n",
              "      <td>NaN</td>\n",
              "      <td>NaN</td>\n",
              "      <td>NaN</td>\n",
              "      <td>NaN</td>\n",
              "      <td>NaN</td>\n",
              "      <td>NaN</td>\n",
              "      <td>NaN</td>\n",
              "    </tr>\n",
              "    <tr>\n",
              "      <th>mean</th>\n",
              "      <td>2012-01-01 00:00:00</td>\n",
              "      <td>NaN</td>\n",
              "      <td>NaN</td>\n",
              "      <td>NaN</td>\n",
              "      <td>NaN</td>\n",
              "      <td>NaN</td>\n",
              "      <td>NaN</td>\n",
              "      <td>NaN</td>\n",
              "      <td>0.495385</td>\n",
              "      <td>0.474354</td>\n",
              "      <td>0.627894</td>\n",
              "      <td>0.190486</td>\n",
              "      <td>848.176471</td>\n",
              "      <td>3656.172367</td>\n",
              "      <td>4504.348837</td>\n",
              "    </tr>\n",
              "    <tr>\n",
              "      <th>min</th>\n",
              "      <td>2011-01-01 00:00:00</td>\n",
              "      <td>NaN</td>\n",
              "      <td>NaN</td>\n",
              "      <td>NaN</td>\n",
              "      <td>NaN</td>\n",
              "      <td>NaN</td>\n",
              "      <td>NaN</td>\n",
              "      <td>NaN</td>\n",
              "      <td>0.059130</td>\n",
              "      <td>0.079070</td>\n",
              "      <td>0.000000</td>\n",
              "      <td>0.022392</td>\n",
              "      <td>2.000000</td>\n",
              "      <td>20.000000</td>\n",
              "      <td>22.000000</td>\n",
              "    </tr>\n",
              "    <tr>\n",
              "      <th>25%</th>\n",
              "      <td>2011-07-02 12:00:00</td>\n",
              "      <td>NaN</td>\n",
              "      <td>NaN</td>\n",
              "      <td>NaN</td>\n",
              "      <td>NaN</td>\n",
              "      <td>NaN</td>\n",
              "      <td>NaN</td>\n",
              "      <td>NaN</td>\n",
              "      <td>0.337083</td>\n",
              "      <td>0.337842</td>\n",
              "      <td>0.520000</td>\n",
              "      <td>0.134950</td>\n",
              "      <td>315.500000</td>\n",
              "      <td>2497.000000</td>\n",
              "      <td>3152.000000</td>\n",
              "    </tr>\n",
              "    <tr>\n",
              "      <th>50%</th>\n",
              "      <td>2012-01-01 00:00:00</td>\n",
              "      <td>NaN</td>\n",
              "      <td>NaN</td>\n",
              "      <td>NaN</td>\n",
              "      <td>NaN</td>\n",
              "      <td>NaN</td>\n",
              "      <td>NaN</td>\n",
              "      <td>NaN</td>\n",
              "      <td>0.498333</td>\n",
              "      <td>0.486733</td>\n",
              "      <td>0.626667</td>\n",
              "      <td>0.180975</td>\n",
              "      <td>713.000000</td>\n",
              "      <td>3662.000000</td>\n",
              "      <td>4548.000000</td>\n",
              "    </tr>\n",
              "    <tr>\n",
              "      <th>75%</th>\n",
              "      <td>2012-07-01 12:00:00</td>\n",
              "      <td>NaN</td>\n",
              "      <td>NaN</td>\n",
              "      <td>NaN</td>\n",
              "      <td>NaN</td>\n",
              "      <td>NaN</td>\n",
              "      <td>NaN</td>\n",
              "      <td>NaN</td>\n",
              "      <td>0.655417</td>\n",
              "      <td>0.608602</td>\n",
              "      <td>0.730209</td>\n",
              "      <td>0.233214</td>\n",
              "      <td>1096.000000</td>\n",
              "      <td>4776.500000</td>\n",
              "      <td>5956.000000</td>\n",
              "    </tr>\n",
              "    <tr>\n",
              "      <th>max</th>\n",
              "      <td>2012-12-31 00:00:00</td>\n",
              "      <td>NaN</td>\n",
              "      <td>NaN</td>\n",
              "      <td>NaN</td>\n",
              "      <td>NaN</td>\n",
              "      <td>NaN</td>\n",
              "      <td>NaN</td>\n",
              "      <td>NaN</td>\n",
              "      <td>0.861667</td>\n",
              "      <td>0.840896</td>\n",
              "      <td>0.972500</td>\n",
              "      <td>0.507463</td>\n",
              "      <td>3410.000000</td>\n",
              "      <td>6946.000000</td>\n",
              "      <td>8714.000000</td>\n",
              "    </tr>\n",
              "    <tr>\n",
              "      <th>std</th>\n",
              "      <td>NaN</td>\n",
              "      <td>NaN</td>\n",
              "      <td>NaN</td>\n",
              "      <td>NaN</td>\n",
              "      <td>NaN</td>\n",
              "      <td>NaN</td>\n",
              "      <td>NaN</td>\n",
              "      <td>NaN</td>\n",
              "      <td>0.183051</td>\n",
              "      <td>0.162961</td>\n",
              "      <td>0.142429</td>\n",
              "      <td>0.077498</td>\n",
              "      <td>686.622488</td>\n",
              "      <td>1560.256377</td>\n",
              "      <td>1937.211452</td>\n",
              "    </tr>\n",
              "  </tbody>\n",
              "</table>\n",
              "</div>"
            ],
            "text/plain": [
              "                       date season  year month  holiday day_name  workingday  \\\n",
              "count                   731    731   731   731    731.0      731       731.0   \n",
              "unique                  NaN      4     2    12      2.0        7         2.0   \n",
              "top                     NaN   Fall  2012   Jan      0.0   Sunday         1.0   \n",
              "freq                    NaN    188   366    62    710.0      105       500.0   \n",
              "mean    2012-01-01 00:00:00    NaN   NaN   NaN      NaN      NaN         NaN   \n",
              "min     2011-01-01 00:00:00    NaN   NaN   NaN      NaN      NaN         NaN   \n",
              "25%     2011-07-02 12:00:00    NaN   NaN   NaN      NaN      NaN         NaN   \n",
              "50%     2012-01-01 00:00:00    NaN   NaN   NaN      NaN      NaN         NaN   \n",
              "75%     2012-07-01 12:00:00    NaN   NaN   NaN      NaN      NaN         NaN   \n",
              "max     2012-12-31 00:00:00    NaN   NaN   NaN      NaN      NaN         NaN   \n",
              "std                     NaN    NaN   NaN   NaN      NaN      NaN         NaN   \n",
              "\n",
              "       weather        temp       atemp    humidity   windspeed       casual  \\\n",
              "count      731  731.000000  731.000000  731.000000  731.000000   731.000000   \n",
              "unique       3         NaN         NaN         NaN         NaN          NaN   \n",
              "top      Clear         NaN         NaN         NaN         NaN          NaN   \n",
              "freq       463         NaN         NaN         NaN         NaN          NaN   \n",
              "mean       NaN    0.495385    0.474354    0.627894    0.190486   848.176471   \n",
              "min        NaN    0.059130    0.079070    0.000000    0.022392     2.000000   \n",
              "25%        NaN    0.337083    0.337842    0.520000    0.134950   315.500000   \n",
              "50%        NaN    0.498333    0.486733    0.626667    0.180975   713.000000   \n",
              "75%        NaN    0.655417    0.608602    0.730209    0.233214  1096.000000   \n",
              "max        NaN    0.861667    0.840896    0.972500    0.507463  3410.000000   \n",
              "std        NaN    0.183051    0.162961    0.142429    0.077498   686.622488   \n",
              "\n",
              "         registered        count  \n",
              "count    731.000000   731.000000  \n",
              "unique          NaN          NaN  \n",
              "top             NaN          NaN  \n",
              "freq            NaN          NaN  \n",
              "mean    3656.172367  4504.348837  \n",
              "min       20.000000    22.000000  \n",
              "25%     2497.000000  3152.000000  \n",
              "50%     3662.000000  4548.000000  \n",
              "75%     4776.500000  5956.000000  \n",
              "max     6946.000000  8714.000000  \n",
              "std     1560.256377  1937.211452  "
            ]
          },
          "execution_count": 22,
          "metadata": {},
          "output_type": "execute_result"
        }
      ],
      "source": [
        "# melihat rangkuman parameter statistik dari data day_df\n",
        "day_df.describe(include=\"all\")"
      ]
    },
    {
      "cell_type": "markdown",
      "metadata": {
        "id": "_0M2Aejr4ApR"
      },
      "source": [
        "Dari informasi statistik data df_day dapat kita ketahui bahwa jumlah pelanggan yang paling banyak adalah di musim fall atau musim dingin. Untuk memastikannya kita bisa melihat perbandingan pelanggan tiap musim sebagai berikut:"
      ]
    },
    {
      "cell_type": "code",
      "execution_count": 23,
      "metadata": {
        "colab": {
          "base_uri": "https://localhost:8080/",
          "height": 206
        },
        "id": "9jI3U6ec4w8I",
        "outputId": "c600a726-5450-485b-ead0-678ba69a3025"
      },
      "outputs": [
        {
          "name": "stderr",
          "output_type": "stream",
          "text": [
            "C:\\Users\\lutfh\\AppData\\Local\\Temp\\ipykernel_10040\\4000366204.py:2: FutureWarning: The default of observed=False is deprecated and will be changed to True in a future version of pandas. Pass observed=False to retain current behavior or observed=True to adopt the future default and silence this warning.\n",
            "  day_df.groupby(by=\"season\").agg({\n"
          ]
        },
        {
          "data": {
            "text/html": [
              "<div>\n",
              "<style scoped>\n",
              "    .dataframe tbody tr th:only-of-type {\n",
              "        vertical-align: middle;\n",
              "    }\n",
              "\n",
              "    .dataframe tbody tr th {\n",
              "        vertical-align: top;\n",
              "    }\n",
              "\n",
              "    .dataframe thead th {\n",
              "        text-align: right;\n",
              "    }\n",
              "</style>\n",
              "<table border=\"1\" class=\"dataframe\">\n",
              "  <thead>\n",
              "    <tr style=\"text-align: right;\">\n",
              "      <th></th>\n",
              "      <th>count</th>\n",
              "    </tr>\n",
              "    <tr>\n",
              "      <th>season</th>\n",
              "      <th></th>\n",
              "    </tr>\n",
              "  </thead>\n",
              "  <tbody>\n",
              "    <tr>\n",
              "      <th>Fall</th>\n",
              "      <td>1061129</td>\n",
              "    </tr>\n",
              "    <tr>\n",
              "      <th>Summer</th>\n",
              "      <td>918589</td>\n",
              "    </tr>\n",
              "    <tr>\n",
              "      <th>Winter</th>\n",
              "      <td>841613</td>\n",
              "    </tr>\n",
              "    <tr>\n",
              "      <th>Spring</th>\n",
              "      <td>471348</td>\n",
              "    </tr>\n",
              "  </tbody>\n",
              "</table>\n",
              "</div>"
            ],
            "text/plain": [
              "          count\n",
              "season         \n",
              "Fall    1061129\n",
              "Summer   918589\n",
              "Winter   841613\n",
              "Spring   471348"
            ]
          },
          "execution_count": 23,
          "metadata": {},
          "output_type": "execute_result"
        }
      ],
      "source": [
        "# melihat jumlah penyewaan tiap season dan diurutkan berdasarkan nilai yang paling tinggi\n",
        "day_df.groupby(by=\"season\").agg({\n",
        "    \"count\" : \"sum\"\n",
        "}).sort_values(by=\"count\", ascending=False)"
      ]
    },
    {
      "cell_type": "markdown",
      "metadata": {
        "id": "2i62cqn1UMUb"
      },
      "source": [
        "Karena ada 2 jenis peminjaman yaitu Registered dan Casual,Maka kita perlu Meng grouping kedua data ini sehingga Kita tahu berapa perbedaan total penyewaaan sepeda jenis Registered dan Casual"
      ]
    },
    {
      "cell_type": "code",
      "execution_count": 24,
      "metadata": {
        "colab": {
          "base_uri": "https://localhost:8080/",
          "height": 175
        },
        "id": "N3pjos2MUrIw",
        "outputId": "d5349d9f-14bf-41d5-e981-0f763b4b0c0d"
      },
      "outputs": [
        {
          "name": "stderr",
          "output_type": "stream",
          "text": [
            "C:\\Users\\lutfh\\AppData\\Local\\Temp\\ipykernel_10040\\3482625092.py:2: FutureWarning: The default of observed=False is deprecated and will be changed to True in a future version of pandas. Pass observed=False to retain current behavior or observed=True to adopt the future default and silence this warning.\n",
            "  day_df.groupby(by=\"year\").agg({\n"
          ]
        },
        {
          "data": {
            "text/html": [
              "<div>\n",
              "<style scoped>\n",
              "    .dataframe tbody tr th:only-of-type {\n",
              "        vertical-align: middle;\n",
              "    }\n",
              "\n",
              "    .dataframe tbody tr th {\n",
              "        vertical-align: top;\n",
              "    }\n",
              "\n",
              "    .dataframe thead tr th {\n",
              "        text-align: left;\n",
              "    }\n",
              "\n",
              "    .dataframe thead tr:last-of-type th {\n",
              "        text-align: right;\n",
              "    }\n",
              "</style>\n",
              "<table border=\"1\" class=\"dataframe\">\n",
              "  <thead>\n",
              "    <tr>\n",
              "      <th></th>\n",
              "      <th>registered</th>\n",
              "      <th>casual</th>\n",
              "    </tr>\n",
              "    <tr>\n",
              "      <th></th>\n",
              "      <th>sum</th>\n",
              "      <th>sum</th>\n",
              "    </tr>\n",
              "    <tr>\n",
              "      <th>year</th>\n",
              "      <th></th>\n",
              "      <th></th>\n",
              "    </tr>\n",
              "  </thead>\n",
              "  <tbody>\n",
              "    <tr>\n",
              "      <th>2011</th>\n",
              "      <td>995851</td>\n",
              "      <td>247252</td>\n",
              "    </tr>\n",
              "    <tr>\n",
              "      <th>2012</th>\n",
              "      <td>1676811</td>\n",
              "      <td>372765</td>\n",
              "    </tr>\n",
              "  </tbody>\n",
              "</table>\n",
              "</div>"
            ],
            "text/plain": [
              "     registered  casual\n",
              "            sum     sum\n",
              "year                   \n",
              "2011     995851  247252\n",
              "2012    1676811  372765"
            ]
          },
          "execution_count": 24,
          "metadata": {},
          "output_type": "execute_result"
        }
      ],
      "source": [
        "# melihat jumlah penyewaan tiap tahun berdasarkan registered dan casul\n",
        "day_df.groupby(by=\"year\").agg({\n",
        "    \"registered\": [\"sum\"],\n",
        "    \"casual\": [\"sum\"]\n",
        "\n",
        "\n",
        "})"
      ]
    },
    {
      "cell_type": "markdown",
      "metadata": {
        "id": "flRgL5ObVGnf"
      },
      "source": [
        "Dapat kita lihat bahwa ada perbedaan signifikan dari pelanggan Berjenis Registered dan Casual."
      ]
    },
    {
      "cell_type": "markdown",
      "metadata": {
        "id": "BIPorKx98fyx"
      },
      "source": [
        "**> Explore Data hour_df**"
      ]
    },
    {
      "cell_type": "code",
      "execution_count": 25,
      "metadata": {
        "colab": {
          "base_uri": "https://localhost:8080/",
          "height": 616
        },
        "id": "Avb5BmlI8eTl",
        "outputId": "8f4bd30b-3d95-4a49-80eb-d7be9f67c81b"
      },
      "outputs": [
        {
          "data": {
            "text/html": [
              "<div>\n",
              "<style scoped>\n",
              "    .dataframe tbody tr th:only-of-type {\n",
              "        vertical-align: middle;\n",
              "    }\n",
              "\n",
              "    .dataframe tbody tr th {\n",
              "        vertical-align: top;\n",
              "    }\n",
              "\n",
              "    .dataframe thead th {\n",
              "        text-align: right;\n",
              "    }\n",
              "</style>\n",
              "<table border=\"1\" class=\"dataframe\">\n",
              "  <thead>\n",
              "    <tr style=\"text-align: right;\">\n",
              "      <th></th>\n",
              "      <th>date</th>\n",
              "      <th>season</th>\n",
              "      <th>year</th>\n",
              "      <th>month</th>\n",
              "      <th>hour</th>\n",
              "      <th>holiday</th>\n",
              "      <th>day_name</th>\n",
              "      <th>workingday</th>\n",
              "      <th>weather</th>\n",
              "      <th>temp</th>\n",
              "      <th>atemp</th>\n",
              "      <th>humidity</th>\n",
              "      <th>windspeed</th>\n",
              "      <th>casual</th>\n",
              "      <th>registered</th>\n",
              "      <th>count</th>\n",
              "    </tr>\n",
              "  </thead>\n",
              "  <tbody>\n",
              "    <tr>\n",
              "      <th>count</th>\n",
              "      <td>17379</td>\n",
              "      <td>17379</td>\n",
              "      <td>17379</td>\n",
              "      <td>17379</td>\n",
              "      <td>17379.000000</td>\n",
              "      <td>17379.0</td>\n",
              "      <td>17379</td>\n",
              "      <td>17379.0</td>\n",
              "      <td>17379</td>\n",
              "      <td>17379.000000</td>\n",
              "      <td>17379.000000</td>\n",
              "      <td>17379.000000</td>\n",
              "      <td>17379.000000</td>\n",
              "      <td>17379.000000</td>\n",
              "      <td>17379.000000</td>\n",
              "      <td>17379.000000</td>\n",
              "    </tr>\n",
              "    <tr>\n",
              "      <th>unique</th>\n",
              "      <td>NaN</td>\n",
              "      <td>4</td>\n",
              "      <td>2</td>\n",
              "      <td>12</td>\n",
              "      <td>NaN</td>\n",
              "      <td>2.0</td>\n",
              "      <td>7</td>\n",
              "      <td>2.0</td>\n",
              "      <td>4</td>\n",
              "      <td>NaN</td>\n",
              "      <td>NaN</td>\n",
              "      <td>NaN</td>\n",
              "      <td>NaN</td>\n",
              "      <td>NaN</td>\n",
              "      <td>NaN</td>\n",
              "      <td>NaN</td>\n",
              "    </tr>\n",
              "    <tr>\n",
              "      <th>top</th>\n",
              "      <td>NaN</td>\n",
              "      <td>Fall</td>\n",
              "      <td>2012</td>\n",
              "      <td>Jul</td>\n",
              "      <td>NaN</td>\n",
              "      <td>0.0</td>\n",
              "      <td>Saturday</td>\n",
              "      <td>1.0</td>\n",
              "      <td>Clear</td>\n",
              "      <td>NaN</td>\n",
              "      <td>NaN</td>\n",
              "      <td>NaN</td>\n",
              "      <td>NaN</td>\n",
              "      <td>NaN</td>\n",
              "      <td>NaN</td>\n",
              "      <td>NaN</td>\n",
              "    </tr>\n",
              "    <tr>\n",
              "      <th>freq</th>\n",
              "      <td>NaN</td>\n",
              "      <td>4496</td>\n",
              "      <td>8734</td>\n",
              "      <td>1488</td>\n",
              "      <td>NaN</td>\n",
              "      <td>16879.0</td>\n",
              "      <td>2512</td>\n",
              "      <td>11865.0</td>\n",
              "      <td>11413</td>\n",
              "      <td>NaN</td>\n",
              "      <td>NaN</td>\n",
              "      <td>NaN</td>\n",
              "      <td>NaN</td>\n",
              "      <td>NaN</td>\n",
              "      <td>NaN</td>\n",
              "      <td>NaN</td>\n",
              "    </tr>\n",
              "    <tr>\n",
              "      <th>mean</th>\n",
              "      <td>2012-01-02 04:08:34.552045568</td>\n",
              "      <td>NaN</td>\n",
              "      <td>NaN</td>\n",
              "      <td>NaN</td>\n",
              "      <td>11.546752</td>\n",
              "      <td>NaN</td>\n",
              "      <td>NaN</td>\n",
              "      <td>NaN</td>\n",
              "      <td>NaN</td>\n",
              "      <td>0.496987</td>\n",
              "      <td>0.475775</td>\n",
              "      <td>0.627229</td>\n",
              "      <td>0.190098</td>\n",
              "      <td>35.676218</td>\n",
              "      <td>153.786869</td>\n",
              "      <td>189.463088</td>\n",
              "    </tr>\n",
              "    <tr>\n",
              "      <th>min</th>\n",
              "      <td>2011-01-01 00:00:00</td>\n",
              "      <td>NaN</td>\n",
              "      <td>NaN</td>\n",
              "      <td>NaN</td>\n",
              "      <td>0.000000</td>\n",
              "      <td>NaN</td>\n",
              "      <td>NaN</td>\n",
              "      <td>NaN</td>\n",
              "      <td>NaN</td>\n",
              "      <td>0.020000</td>\n",
              "      <td>0.000000</td>\n",
              "      <td>0.000000</td>\n",
              "      <td>0.000000</td>\n",
              "      <td>0.000000</td>\n",
              "      <td>0.000000</td>\n",
              "      <td>1.000000</td>\n",
              "    </tr>\n",
              "    <tr>\n",
              "      <th>25%</th>\n",
              "      <td>2011-07-04 00:00:00</td>\n",
              "      <td>NaN</td>\n",
              "      <td>NaN</td>\n",
              "      <td>NaN</td>\n",
              "      <td>6.000000</td>\n",
              "      <td>NaN</td>\n",
              "      <td>NaN</td>\n",
              "      <td>NaN</td>\n",
              "      <td>NaN</td>\n",
              "      <td>0.340000</td>\n",
              "      <td>0.333300</td>\n",
              "      <td>0.480000</td>\n",
              "      <td>0.104500</td>\n",
              "      <td>4.000000</td>\n",
              "      <td>34.000000</td>\n",
              "      <td>40.000000</td>\n",
              "    </tr>\n",
              "    <tr>\n",
              "      <th>50%</th>\n",
              "      <td>2012-01-02 00:00:00</td>\n",
              "      <td>NaN</td>\n",
              "      <td>NaN</td>\n",
              "      <td>NaN</td>\n",
              "      <td>12.000000</td>\n",
              "      <td>NaN</td>\n",
              "      <td>NaN</td>\n",
              "      <td>NaN</td>\n",
              "      <td>NaN</td>\n",
              "      <td>0.500000</td>\n",
              "      <td>0.484800</td>\n",
              "      <td>0.630000</td>\n",
              "      <td>0.194000</td>\n",
              "      <td>17.000000</td>\n",
              "      <td>115.000000</td>\n",
              "      <td>142.000000</td>\n",
              "    </tr>\n",
              "    <tr>\n",
              "      <th>75%</th>\n",
              "      <td>2012-07-02 00:00:00</td>\n",
              "      <td>NaN</td>\n",
              "      <td>NaN</td>\n",
              "      <td>NaN</td>\n",
              "      <td>18.000000</td>\n",
              "      <td>NaN</td>\n",
              "      <td>NaN</td>\n",
              "      <td>NaN</td>\n",
              "      <td>NaN</td>\n",
              "      <td>0.660000</td>\n",
              "      <td>0.621200</td>\n",
              "      <td>0.780000</td>\n",
              "      <td>0.253700</td>\n",
              "      <td>48.000000</td>\n",
              "      <td>220.000000</td>\n",
              "      <td>281.000000</td>\n",
              "    </tr>\n",
              "    <tr>\n",
              "      <th>max</th>\n",
              "      <td>2012-12-31 00:00:00</td>\n",
              "      <td>NaN</td>\n",
              "      <td>NaN</td>\n",
              "      <td>NaN</td>\n",
              "      <td>23.000000</td>\n",
              "      <td>NaN</td>\n",
              "      <td>NaN</td>\n",
              "      <td>NaN</td>\n",
              "      <td>NaN</td>\n",
              "      <td>1.000000</td>\n",
              "      <td>1.000000</td>\n",
              "      <td>1.000000</td>\n",
              "      <td>0.850700</td>\n",
              "      <td>367.000000</td>\n",
              "      <td>886.000000</td>\n",
              "      <td>977.000000</td>\n",
              "    </tr>\n",
              "    <tr>\n",
              "      <th>std</th>\n",
              "      <td>NaN</td>\n",
              "      <td>NaN</td>\n",
              "      <td>NaN</td>\n",
              "      <td>NaN</td>\n",
              "      <td>6.914405</td>\n",
              "      <td>NaN</td>\n",
              "      <td>NaN</td>\n",
              "      <td>NaN</td>\n",
              "      <td>NaN</td>\n",
              "      <td>0.192556</td>\n",
              "      <td>0.171850</td>\n",
              "      <td>0.192930</td>\n",
              "      <td>0.122340</td>\n",
              "      <td>49.305030</td>\n",
              "      <td>151.357286</td>\n",
              "      <td>181.387599</td>\n",
              "    </tr>\n",
              "  </tbody>\n",
              "</table>\n",
              "</div>"
            ],
            "text/plain": [
              "                                 date season   year  month          hour  \\\n",
              "count                           17379  17379  17379  17379  17379.000000   \n",
              "unique                            NaN      4      2     12           NaN   \n",
              "top                               NaN   Fall   2012    Jul           NaN   \n",
              "freq                              NaN   4496   8734   1488           NaN   \n",
              "mean    2012-01-02 04:08:34.552045568    NaN    NaN    NaN     11.546752   \n",
              "min               2011-01-01 00:00:00    NaN    NaN    NaN      0.000000   \n",
              "25%               2011-07-04 00:00:00    NaN    NaN    NaN      6.000000   \n",
              "50%               2012-01-02 00:00:00    NaN    NaN    NaN     12.000000   \n",
              "75%               2012-07-02 00:00:00    NaN    NaN    NaN     18.000000   \n",
              "max               2012-12-31 00:00:00    NaN    NaN    NaN     23.000000   \n",
              "std                               NaN    NaN    NaN    NaN      6.914405   \n",
              "\n",
              "        holiday  day_name  workingday weather          temp         atemp  \\\n",
              "count   17379.0     17379     17379.0   17379  17379.000000  17379.000000   \n",
              "unique      2.0         7         2.0       4           NaN           NaN   \n",
              "top         0.0  Saturday         1.0   Clear           NaN           NaN   \n",
              "freq    16879.0      2512     11865.0   11413           NaN           NaN   \n",
              "mean        NaN       NaN         NaN     NaN      0.496987      0.475775   \n",
              "min         NaN       NaN         NaN     NaN      0.020000      0.000000   \n",
              "25%         NaN       NaN         NaN     NaN      0.340000      0.333300   \n",
              "50%         NaN       NaN         NaN     NaN      0.500000      0.484800   \n",
              "75%         NaN       NaN         NaN     NaN      0.660000      0.621200   \n",
              "max         NaN       NaN         NaN     NaN      1.000000      1.000000   \n",
              "std         NaN       NaN         NaN     NaN      0.192556      0.171850   \n",
              "\n",
              "            humidity     windspeed        casual    registered         count  \n",
              "count   17379.000000  17379.000000  17379.000000  17379.000000  17379.000000  \n",
              "unique           NaN           NaN           NaN           NaN           NaN  \n",
              "top              NaN           NaN           NaN           NaN           NaN  \n",
              "freq             NaN           NaN           NaN           NaN           NaN  \n",
              "mean        0.627229      0.190098     35.676218    153.786869    189.463088  \n",
              "min         0.000000      0.000000      0.000000      0.000000      1.000000  \n",
              "25%         0.480000      0.104500      4.000000     34.000000     40.000000  \n",
              "50%         0.630000      0.194000     17.000000    115.000000    142.000000  \n",
              "75%         0.780000      0.253700     48.000000    220.000000    281.000000  \n",
              "max         1.000000      0.850700    367.000000    886.000000    977.000000  \n",
              "std         0.192930      0.122340     49.305030    151.357286    181.387599  "
            ]
          },
          "execution_count": 25,
          "metadata": {},
          "output_type": "execute_result"
        }
      ],
      "source": [
        "# melihat rangkuman parameter statistik dari data hour_df\n",
        "hour_df.describe(include=\"all\")"
      ]
    },
    {
      "cell_type": "markdown",
      "metadata": {
        "id": "fmWa-m_tYJu5"
      },
      "source": [
        "Berdasarkan Informasi di atas kita dapat mengetahui bahwa waktu paling sering pelanggan menyewa sepeda adalah di jam 17.00 sore hari. Untuk membuktikannya kita melakukan sorting sebagai berikut:"
      ]
    },
    {
      "cell_type": "code",
      "execution_count": 26,
      "metadata": {
        "colab": {
          "base_uri": "https://localhost:8080/",
          "height": 865
        },
        "id": "dls8bobBeFfn",
        "outputId": "c5d4804b-280f-4295-c5a9-58d198264181"
      },
      "outputs": [
        {
          "data": {
            "text/html": [
              "<div>\n",
              "<style scoped>\n",
              "    .dataframe tbody tr th:only-of-type {\n",
              "        vertical-align: middle;\n",
              "    }\n",
              "\n",
              "    .dataframe tbody tr th {\n",
              "        vertical-align: top;\n",
              "    }\n",
              "\n",
              "    .dataframe thead tr th {\n",
              "        text-align: left;\n",
              "    }\n",
              "\n",
              "    .dataframe thead tr:last-of-type th {\n",
              "        text-align: right;\n",
              "    }\n",
              "</style>\n",
              "<table border=\"1\" class=\"dataframe\">\n",
              "  <thead>\n",
              "    <tr>\n",
              "      <th></th>\n",
              "      <th>count</th>\n",
              "    </tr>\n",
              "    <tr>\n",
              "      <th></th>\n",
              "      <th>sum</th>\n",
              "    </tr>\n",
              "    <tr>\n",
              "      <th>hour</th>\n",
              "      <th></th>\n",
              "    </tr>\n",
              "  </thead>\n",
              "  <tbody>\n",
              "    <tr>\n",
              "      <th>0</th>\n",
              "      <td>39130</td>\n",
              "    </tr>\n",
              "    <tr>\n",
              "      <th>1</th>\n",
              "      <td>24164</td>\n",
              "    </tr>\n",
              "    <tr>\n",
              "      <th>2</th>\n",
              "      <td>16352</td>\n",
              "    </tr>\n",
              "    <tr>\n",
              "      <th>3</th>\n",
              "      <td>8174</td>\n",
              "    </tr>\n",
              "    <tr>\n",
              "      <th>4</th>\n",
              "      <td>4428</td>\n",
              "    </tr>\n",
              "    <tr>\n",
              "      <th>5</th>\n",
              "      <td>14261</td>\n",
              "    </tr>\n",
              "    <tr>\n",
              "      <th>6</th>\n",
              "      <td>55132</td>\n",
              "    </tr>\n",
              "    <tr>\n",
              "      <th>7</th>\n",
              "      <td>154171</td>\n",
              "    </tr>\n",
              "    <tr>\n",
              "      <th>8</th>\n",
              "      <td>261001</td>\n",
              "    </tr>\n",
              "    <tr>\n",
              "      <th>9</th>\n",
              "      <td>159438</td>\n",
              "    </tr>\n",
              "    <tr>\n",
              "      <th>10</th>\n",
              "      <td>126257</td>\n",
              "    </tr>\n",
              "    <tr>\n",
              "      <th>11</th>\n",
              "      <td>151320</td>\n",
              "    </tr>\n",
              "    <tr>\n",
              "      <th>12</th>\n",
              "      <td>184414</td>\n",
              "    </tr>\n",
              "    <tr>\n",
              "      <th>13</th>\n",
              "      <td>184919</td>\n",
              "    </tr>\n",
              "    <tr>\n",
              "      <th>14</th>\n",
              "      <td>175652</td>\n",
              "    </tr>\n",
              "    <tr>\n",
              "      <th>15</th>\n",
              "      <td>183149</td>\n",
              "    </tr>\n",
              "    <tr>\n",
              "      <th>16</th>\n",
              "      <td>227748</td>\n",
              "    </tr>\n",
              "    <tr>\n",
              "      <th>17</th>\n",
              "      <td>336860</td>\n",
              "    </tr>\n",
              "    <tr>\n",
              "      <th>18</th>\n",
              "      <td>309772</td>\n",
              "    </tr>\n",
              "    <tr>\n",
              "      <th>19</th>\n",
              "      <td>226789</td>\n",
              "    </tr>\n",
              "    <tr>\n",
              "      <th>20</th>\n",
              "      <td>164550</td>\n",
              "    </tr>\n",
              "    <tr>\n",
              "      <th>21</th>\n",
              "      <td>125445</td>\n",
              "    </tr>\n",
              "    <tr>\n",
              "      <th>22</th>\n",
              "      <td>95612</td>\n",
              "    </tr>\n",
              "    <tr>\n",
              "      <th>23</th>\n",
              "      <td>63941</td>\n",
              "    </tr>\n",
              "  </tbody>\n",
              "</table>\n",
              "</div>"
            ],
            "text/plain": [
              "       count\n",
              "         sum\n",
              "hour        \n",
              "0      39130\n",
              "1      24164\n",
              "2      16352\n",
              "3       8174\n",
              "4       4428\n",
              "5      14261\n",
              "6      55132\n",
              "7     154171\n",
              "8     261001\n",
              "9     159438\n",
              "10    126257\n",
              "11    151320\n",
              "12    184414\n",
              "13    184919\n",
              "14    175652\n",
              "15    183149\n",
              "16    227748\n",
              "17    336860\n",
              "18    309772\n",
              "19    226789\n",
              "20    164550\n",
              "21    125445\n",
              "22     95612\n",
              "23     63941"
            ]
          },
          "execution_count": 26,
          "metadata": {},
          "output_type": "execute_result"
        }
      ],
      "source": [
        "# penyewaan berdasarkan jam dimulai dari jam ke-0 hingga ke 23\n",
        "hour_df.groupby(by=\"hour\").agg({\n",
        "    \"count\": [\"sum\"]\n",
        "})"
      ]
    },
    {
      "cell_type": "code",
      "execution_count": 27,
      "metadata": {
        "colab": {
          "base_uri": "https://localhost:8080/",
          "height": 833
        },
        "id": "KWHKrCMpeSrK",
        "outputId": "608be7c9-f8e2-4ab9-e9dc-d17c8b6e1779"
      },
      "outputs": [
        {
          "data": {
            "text/html": [
              "<div>\n",
              "<style scoped>\n",
              "    .dataframe tbody tr th:only-of-type {\n",
              "        vertical-align: middle;\n",
              "    }\n",
              "\n",
              "    .dataframe tbody tr th {\n",
              "        vertical-align: top;\n",
              "    }\n",
              "\n",
              "    .dataframe thead th {\n",
              "        text-align: right;\n",
              "    }\n",
              "</style>\n",
              "<table border=\"1\" class=\"dataframe\">\n",
              "  <thead>\n",
              "    <tr style=\"text-align: right;\">\n",
              "      <th></th>\n",
              "      <th>count</th>\n",
              "    </tr>\n",
              "    <tr>\n",
              "      <th>hour</th>\n",
              "      <th></th>\n",
              "    </tr>\n",
              "  </thead>\n",
              "  <tbody>\n",
              "    <tr>\n",
              "      <th>17</th>\n",
              "      <td>336860</td>\n",
              "    </tr>\n",
              "    <tr>\n",
              "      <th>18</th>\n",
              "      <td>309772</td>\n",
              "    </tr>\n",
              "    <tr>\n",
              "      <th>8</th>\n",
              "      <td>261001</td>\n",
              "    </tr>\n",
              "    <tr>\n",
              "      <th>16</th>\n",
              "      <td>227748</td>\n",
              "    </tr>\n",
              "    <tr>\n",
              "      <th>19</th>\n",
              "      <td>226789</td>\n",
              "    </tr>\n",
              "    <tr>\n",
              "      <th>13</th>\n",
              "      <td>184919</td>\n",
              "    </tr>\n",
              "    <tr>\n",
              "      <th>12</th>\n",
              "      <td>184414</td>\n",
              "    </tr>\n",
              "    <tr>\n",
              "      <th>15</th>\n",
              "      <td>183149</td>\n",
              "    </tr>\n",
              "    <tr>\n",
              "      <th>14</th>\n",
              "      <td>175652</td>\n",
              "    </tr>\n",
              "    <tr>\n",
              "      <th>20</th>\n",
              "      <td>164550</td>\n",
              "    </tr>\n",
              "    <tr>\n",
              "      <th>9</th>\n",
              "      <td>159438</td>\n",
              "    </tr>\n",
              "    <tr>\n",
              "      <th>7</th>\n",
              "      <td>154171</td>\n",
              "    </tr>\n",
              "    <tr>\n",
              "      <th>11</th>\n",
              "      <td>151320</td>\n",
              "    </tr>\n",
              "    <tr>\n",
              "      <th>10</th>\n",
              "      <td>126257</td>\n",
              "    </tr>\n",
              "    <tr>\n",
              "      <th>21</th>\n",
              "      <td>125445</td>\n",
              "    </tr>\n",
              "    <tr>\n",
              "      <th>22</th>\n",
              "      <td>95612</td>\n",
              "    </tr>\n",
              "    <tr>\n",
              "      <th>23</th>\n",
              "      <td>63941</td>\n",
              "    </tr>\n",
              "    <tr>\n",
              "      <th>6</th>\n",
              "      <td>55132</td>\n",
              "    </tr>\n",
              "    <tr>\n",
              "      <th>0</th>\n",
              "      <td>39130</td>\n",
              "    </tr>\n",
              "    <tr>\n",
              "      <th>1</th>\n",
              "      <td>24164</td>\n",
              "    </tr>\n",
              "    <tr>\n",
              "      <th>2</th>\n",
              "      <td>16352</td>\n",
              "    </tr>\n",
              "    <tr>\n",
              "      <th>5</th>\n",
              "      <td>14261</td>\n",
              "    </tr>\n",
              "    <tr>\n",
              "      <th>3</th>\n",
              "      <td>8174</td>\n",
              "    </tr>\n",
              "    <tr>\n",
              "      <th>4</th>\n",
              "      <td>4428</td>\n",
              "    </tr>\n",
              "  </tbody>\n",
              "</table>\n",
              "</div>"
            ],
            "text/plain": [
              "       count\n",
              "hour        \n",
              "17    336860\n",
              "18    309772\n",
              "8     261001\n",
              "16    227748\n",
              "19    226789\n",
              "13    184919\n",
              "12    184414\n",
              "15    183149\n",
              "14    175652\n",
              "20    164550\n",
              "9     159438\n",
              "7     154171\n",
              "11    151320\n",
              "10    126257\n",
              "21    125445\n",
              "22     95612\n",
              "23     63941\n",
              "6      55132\n",
              "0      39130\n",
              "1      24164\n",
              "2      16352\n",
              "5      14261\n",
              "3       8174\n",
              "4       4428"
            ]
          },
          "execution_count": 27,
          "metadata": {},
          "output_type": "execute_result"
        }
      ],
      "source": [
        "# penyewaan berdasarkan jam diurutkan berdasarkan banyaknya pelanggan di jam tersebut secara descending\n",
        "hour_df.groupby(by=\"hour\").agg({\n",
        "    \"count\": \"sum\"\n",
        "}).sort_values(by=\"count\", ascending = False)"
      ]
    },
    {
      "cell_type": "markdown",
      "metadata": {
        "id": "i_a4lOqldNnr"
      },
      "source": [
        "Menampilkan perbandingan jumlah penyewaan sepeda antara jam 00.00-11.59 dengan jam 12.00-23.59"
      ]
    },
    {
      "cell_type": "code",
      "execution_count": 28,
      "metadata": {
        "colab": {
          "base_uri": "https://localhost:8080/"
        },
        "id": "dTAs4gdDdhlQ",
        "outputId": "5f64ab04-3e68-47f0-d5e9-fd5e0654d1c8"
      },
      "outputs": [
        {
          "name": "stdout",
          "output_type": "stream",
          "text": [
            "  TIME  Total Penyewaan\n",
            "0   AM          1013828\n",
            "1   PM          2278851\n"
          ]
        }
      ],
      "source": [
        "# Menambahkan kolom 'AM_PM' pada dataframe hour_df untuk kategori AM atau PM\n",
        "hour_df['AM_PM'] = hour_df['hour'].apply(lambda x: 'AM' if x < 12 else 'PM')\n",
        "\n",
        "# Mengelompokkan berdasarkan 'AM_PM' dan menghitung total count\n",
        "result_df = hour_df.groupby('AM_PM')['count'].sum().reset_index()\n",
        "\n",
        "# Mengganti nama kolom agar lebih informatif\n",
        "result_df.columns = ['TIME', 'Total Penyewaan']\n",
        "\n",
        "print(result_df)"
      ]
    },
    {
      "cell_type": "markdown",
      "metadata": {
        "id": "YRrvGd0hh4g5"
      },
      "source": [
        "Bisa dilihat berdasarkan hasil perhitungan diatas bahwa Waktu Penyewaan Sepeda Lebih banyak dilakukan pada Waktu PM yaitu jam 12 siang hingga 11.59 Malam dengan total 2.25 kali lipat lebih banyak dibanding waktu AM."
      ]
    },
    {
      "cell_type": "markdown",
      "metadata": {
        "id": "zsyZjqak8DC2"
      },
      "source": [
        "## Visualization & Explanatory Analysis"
      ]
    },
    {
      "cell_type": "markdown",
      "metadata": {
        "id": "HZxOiQ6n8DC2"
      },
      "source": [
        "### Pertanyaan 1:  Pada musim apa penyewaan sepeda paling banyak dan paling sedikit dilakukan?"
      ]
    },
    {
      "cell_type": "code",
      "execution_count": 29,
      "metadata": {
        "colab": {
          "base_uri": "https://localhost:8080/",
          "height": 626
        },
        "id": "1swJUdAD8DC2",
        "outputId": "2fb6bcb3-761e-4618-dc8d-dc66a05ffc95"
      },
      "outputs": [
        {
          "name": "stderr",
          "output_type": "stream",
          "text": [
            "C:\\Users\\lutfh\\AppData\\Local\\Temp\\ipykernel_10040\\3952651755.py:8: FutureWarning: \n",
            "\n",
            "Passing `palette` without assigning `hue` is deprecated and will be removed in v0.14.0. Assign the `x` variable to `hue` and set `legend=False` for the same effect.\n",
            "\n",
            "  sns.barplot(\n"
          ]
        },
        {
          "data": {
            "image/png": "[encoded data removed]",
            "text/plain": [
              "<Figure size 1200x600 with 1 Axes>"
            ]
          },
          "metadata": {},
          "output_type": "display_data"
        }
      ],
      "source": [
        "# mengatur warna\n",
        "colors = [\"red\", \"blue\", \"yellow\", \"blue\"]\n",
        "\n",
        "# membuat subplot dengan 1 baris dan 1 kolom, dengan ukuran (12, 6)\n",
        "fig, ax = plt.subplots(figsize=(12, 6))\n",
        "\n",
        "# Buat barplot untuk y=\"count\" dan x=\"season\", menggunakan dataframe day_df\n",
        "sns.barplot(\n",
        "        y=\"count\",\n",
        "        x=\"season\",\n",
        "        data=day_df.sort_values(by=\"season\", ascending=False),\n",
        "        palette=colors,\n",
        "        ax=ax\n",
        "    )\n",
        "# mengatur judul, label y dan x, serta tick params untuk subplot tersebut\n",
        "ax.set_title(\"Grafik Jumlah Penyewaan Tiap Musim\", loc=\"center\", fontsize=20)\n",
        "ax.set_ylabel(None)\n",
        "ax.set_xlabel(None)\n",
        "ax.tick_params(axis='x', labelsize=16)\n",
        "ax.tick_params(axis='y', labelsize=16)\n",
        "\n",
        "# menampilkan plot\n",
        "plt.show()"
      ]
    },
    {
      "cell_type": "markdown",
      "metadata": {
        "id": "1Gliczi5p5YM"
      },
      "source": [
        "Penyewaan Sepeda Di tahun 2011 dan 2012 Paling banyak dilakukan  Pada Musim Fall atau musim gugur dengan total penyewaan sebanyak 1061129 , Sedangkan Musim dengan paling sedikit dilakukan penyewaan sepeda Dilakukan pada musim Spring atau musim semi sebanyak 471348 penyewaan."
      ]
    },
    {
      "cell_type": "markdown",
      "metadata": {
        "id": "DgHI7CiU8DC2"
      },
      "source": [
        "### Pertanyaan 2: Pada jam berapa penyewaan sepeda yang paling banyak dan paling sedikit sepanjang tahun 2011 dan 2012?"
      ]
    },
    {
      "cell_type": "code",
      "execution_count": 30,
      "metadata": {
        "id": "D2es0CqM3rqO"
      },
      "outputs": [],
      "source": [
        "# Melakukan grouping kolom hour dan count dan diurutkan secara descending\n",
        "sum_hour_df = hour_df.groupby(\"hour\")['count'].sum().sort_values(ascending=False).reset_index()"
      ]
    },
    {
      "cell_type": "code",
      "execution_count": 31,
      "metadata": {
        "colab": {
          "base_uri": "https://localhost:8080/",
          "height": 625
        },
        "id": "Go0lCsvO8DC2",
        "outputId": "af8a6219-3c99-4899-c821-71642ee885e5"
      },
      "outputs": [
        {
          "name": "stderr",
          "output_type": "stream",
          "text": [
            "C:\\Users\\lutfh\\AppData\\Local\\Temp\\ipykernel_10040\\2857534441.py:5: FutureWarning: \n",
            "\n",
            "Passing `palette` without assigning `hue` is deprecated and will be removed in v0.14.0. Assign the `x` variable to `hue` and set `legend=False` for the same effect.\n",
            "\n",
            "  sns.barplot(x=\"hour\", y=\"count\", data=sum_hour_df.head(5), palette=[\"blue\", \"blue\", \"yellow\", \"blue\", \"blue\"], ax=ax[0])\n",
            "C:\\Users\\lutfh\\AppData\\Local\\Temp\\ipykernel_10040\\2857534441.py:15: FutureWarning: \n",
            "\n",
            "Passing `palette` without assigning `hue` is deprecated and will be removed in v0.14.0. Assign the `x` variable to `hue` and set `legend=False` for the same effect.\n",
            "\n",
            "  sns.barplot(x=\"hour\", y=\"count\", data=sum_hour_df.sort_values(by=\"hour\", ascending=True).head(5), palette=[\"blue\", \"blue\", \"blue\", \"blue\",\"red\"], ax=ax[1])\n"
          ]
        },
        {
          "data": {
            "image/png": "[encoded data removed]",
            "text/plain": [
              "<Figure size 3600x1600 with 2 Axes>"
            ]
          },
          "metadata": {},
          "output_type": "display_data"
        }
      ],
      "source": [
        "# membuat bar chart untuk melihat perbedaan penyewaan sepeda berdasarkan jam\n",
        "fig, ax = plt.subplots(nrows=1, ncols=2, figsize=(36, 16))\n",
        "\n",
        "# membuat barplot untuk penyewa sepeda terbanyak\n",
        "sns.barplot(x=\"hour\", y=\"count\", data=sum_hour_df.head(5), palette=[\"blue\", \"blue\", \"yellow\", \"blue\", \"blue\"], ax=ax[0])\n",
        "\n",
        "# mengatur label dan judul untuk subplot pertama\n",
        "ax[0].set_ylabel(None)\n",
        "ax[0].set_xlabel(\"Jam (Format 24)\", fontsize=25)\n",
        "ax[0].set_title(\"Jam dengan banyak penyewa sepeda\", loc=\"center\", fontsize=30)\n",
        "ax[0].tick_params(axis='y', labelsize=35)\n",
        "ax[0].tick_params(axis='x', labelsize=30)\n",
        "\n",
        "# membuat barplot untuk penyewa sepeda terdikit\n",
        "sns.barplot(x=\"hour\", y=\"count\", data=sum_hour_df.sort_values(by=\"hour\", ascending=True).head(5), palette=[\"blue\", \"blue\", \"blue\", \"blue\",\"red\"], ax=ax[1])\n",
        "\n",
        "# mengatur label dan judul untuk subplot pertama\n",
        "ax[1].set_ylabel(None)\n",
        "ax[1].set_xlabel(\"Jam (Format 24)\",  fontsize=25)\n",
        "ax[1].set_title(\"Jam dengan sedikit penyewa sepeda\", loc=\"center\", fontsize=30)\n",
        "ax[1].invert_xaxis()\n",
        "ax[1].yaxis.set_label_position(\"right\")\n",
        "ax[1].yaxis.tick_right()\n",
        "ax[1].tick_params(axis='y', labelsize=30)\n",
        "ax[1].tick_params(axis='x', labelsize=30)\n",
        "\n",
        "# menampilkan plot\n",
        "plt.show()"
      ]
    },
    {
      "cell_type": "markdown",
      "metadata": {
        "id": "dAg3evKZ_o3O"
      },
      "source": [
        "Penyewaan Sepeda Di tahun 2011 dan 2012 Paling banyak dilakukan  Pada Jam 17.00 sore hari dengan total penyewaan pada jam tersebut sebanyak 336860 , Sedangkan Waktu(Jam)  paling sedikit yang dilakukan pelanggan untuk menyewa sepeda pada jam 04.00 waktu dini hari dengan total penyewaan sebanyak 4428 penyewaan."
      ]
    },
    {
      "cell_type": "markdown",
      "metadata": {
        "id": "34-6nhs51xGa"
      },
      "source": [
        "### Pertanyaan 3: Bagaimana Perbandingan jumlah penyewaan sepeda antara jam 00.00-11.59 dengan jam 12.00-23.59 (AM dan PM)"
      ]
    },
    {
      "cell_type": "code",
      "execution_count": 32,
      "metadata": {
        "colab": {
          "base_uri": "https://localhost:8080/",
          "height": 428
        },
        "id": "ATP4J7VuyviU",
        "outputId": "00613e00-61ac-4a31-ee2d-16f87832a786"
      },
      "outputs": [
        {
          "name": "stderr",
          "output_type": "stream",
          "text": [
            "C:\\Users\\lutfh\\AppData\\Local\\Temp\\ipykernel_10040\\2351193960.py:11: FutureWarning: The default of observed=False is deprecated and will be changed to True in a future version of pandas. Pass observed=False to retain current behavior or observed=True to adopt the future default and silence this warning.\n",
            "  category_data = hourly_data.groupby(by=\"category\").agg({\n"
          ]
        },
        {
          "data": {
            "image/png": "[encoded data removed]",
            "text/plain": [
              "<Figure size 640x480 with 1 Axes>"
            ]
          },
          "metadata": {},
          "output_type": "display_data"
        }
      ],
      "source": [
        "# Membuat grouping data hour dan menjumlahkan count yang dimiliki\n",
        "hourly_data = hour_df.groupby(by=\"hour\").agg({\n",
        "    \"count\": \"sum\"\n",
        "}).reset_index()\n",
        "\n",
        "# Membuat 2 kategori yaitu jam pada pukul (00.00-11.59) sebagai AM dan jam pada pukul (12.00-23.59) sebagai PM\n",
        "category_labels = ['AM (00.00-11.59)', 'PM (12.00-23.59)']\n",
        "hourly_data['category'] = pd.cut(hourly_data['hour'], bins=[0, 11, 23], labels=category_labels, right=False)\n",
        "\n",
        "# Membuat grouping lagi data berdasarkan kategori diatas kemudian menghitung total count pada tiap ktegori\n",
        "category_data = hourly_data.groupby(by=\"category\").agg({\n",
        "    \"count\": \"sum\"\n",
        "}).reset_index()\n",
        "\n",
        "# Membuat Pie Chart\n",
        "plt.pie(category_data['count'], labels=category_data['category'], autopct='%1.1f%%', startangle=120, colors=['lightblue', 'yellow'])\n",
        "plt.title('Penyewaan Sepeda Berdasarkan waktu AM dan PM')\n",
        "plt.show()"
      ]
    },
    {
      "cell_type": "markdown",
      "metadata": {
        "id": "Z4TZQeTIRWXv"
      },
      "source": [
        "Berdasarkan *pie chart* diatas dapat kita lihat bahwa Waktu Penyewaan Sepeda Di tahun 2011 dan 2012 Berdasarkan dataset ini di donimasi pada saat waktu setelah siang hari hingga tengah malam,yakni waktu (PM) dengan 73,3% dari total penyewaan. Sedangkan penyewaan sepeda pada waktu dari tengah malam sampai siang hari (AM) hanya menyumbang sebanyak 26,7% dari total penyewaan sepeda"
      ]
    },
    {
      "cell_type": "markdown",
      "metadata": {
        "id": "FUbJBZlg2YH6"
      },
      "source": [
        "### Pertanyaan 4: Bagaimana perbandingan jumlah antara pelanggan jenis registered dan casual ?"
      ]
    },
    {
      "cell_type": "code",
      "execution_count": 33,
      "metadata": {
        "colab": {
          "base_uri": "https://localhost:8080/",
          "height": 406
        },
        "id": "SL569Vzx2c7O",
        "outputId": "da765cf0-7d84-4773-8a94-bcbf289c0e36"
      },
      "outputs": [
        {
          "data": {
            "image/png": "[encoded data removed]",
            "text/plain": [
              "<Figure size 640x480 with 1 Axes>"
            ]
          },
          "metadata": {},
          "output_type": "display_data"
        }
      ],
      "source": [
        "# Menjumlahkan semua elemen dalam kolom casual\n",
        "total_casual = sum(day_df['casual'])\n",
        "\n",
        "# Menjumlahkan semua elemen dalam kolom registered\n",
        "total_registered = sum(day_df['registered'])\n",
        "\n",
        "# Membuat data untuk pie plot\n",
        "data = [total_casual, total_registered]\n",
        "labels = ['Casual', 'Registered']\n",
        "\n",
        "# Membuat pie plot\n",
        "plt.title('Penyewaan Sepeda Berdasarkan Jenis Pelanggan')\n",
        "plt.pie(data, labels=labels, autopct='%1.1f%%', colors=['lightblue', 'yellow'])\n",
        "\n",
        "# Menampilkan pie plot\n",
        "plt.show()"
      ]
    },
    {
      "cell_type": "markdown",
      "metadata": {
        "id": "4RUsasbFT4_C"
      },
      "source": [
        "Bisa dilihat berdasarkan pie chart diatas bahwa pengguna penyewa sepeda pada tahun 2011 dan 2012 pada dataset ini didominasi oleh pelanggan registered sebanyak 81,2%, Sedangkan pelanggan Casual hanya sebanyak 18,2%"
      ]
    },
    {
      "cell_type": "markdown",
      "metadata": {
        "id": "rVf-qH1S2dlh"
      },
      "source": [
        "### Pertanyaan 5: Bagaimana performa penyewaan sepeda per bulan tiap tahunnya?"
      ]
    },
    {
      "cell_type": "code",
      "execution_count": 34,
      "metadata": {
        "colab": {
          "base_uri": "https://localhost:8080/",
          "height": 516
        },
        "id": "U-MhjVpYe56F",
        "outputId": "2aedac31-ebbc-40d8-cfe9-c5695a90b3ee"
      },
      "outputs": [
        {
          "data": {
            "image/png": "[encoded data removed]",
            "text/plain": [
              "<Figure size 1200x600 with 1 Axes>"
            ]
          },
          "metadata": {},
          "output_type": "display_data"
        }
      ],
      "source": [
        "# Membuat variabel baru yang berisi filter untuk mengambil data sesuai tahun yang diinginkan\n",
        "df_2011 = day_df[day_df['date'].dt.year == 2011]\n",
        "df_2012 = day_df[day_df['date'].dt.year == 2012]\n",
        "\n",
        "# Kemudian melakukan grouping data dengan bulan, lalu menghitung total penyewaan sepeda tiap bulannya\n",
        "df_2011_monthly = df_2011.groupby(df_2011['date'].dt.month).agg({'count': 'sum'})\n",
        "df_2012_monthly = df_2012.groupby(df_2012['date'].dt.month).agg({'count': 'sum'})\n",
        "\n",
        "# Membuat line chart untuk membandingkan total penyewaan tiap bulannya di tahun 2011 dan 2012 menggunakan seaborn\n",
        "plt.figure(figsize=(12, 6))\n",
        "sns.lineplot(x=df_2011_monthly.index, y=df_2011_monthly['count'], label='2011', marker='o')\n",
        "sns.lineplot(x=df_2012_monthly.index, y=df_2012_monthly['count'], label='2012', marker='o')\n",
        "\n",
        "plt.legend()\n",
        "plt.xlabel('Bulan')\n",
        "plt.ylabel('Total Penyewaan')\n",
        "plt.title('Penyewaan Sepeda Per Bulan (2011 vs 2012)')\n",
        "plt.show()"
      ]
    },
    {
      "cell_type": "markdown",
      "metadata": {
        "id": "FTKGkwNqWAJZ"
      },
      "source": [
        "Bisa dilihat pada *Line Chart* diatas secara garis bahwa total penyewaan tiap bulan menunjukan bahwa penyewaan sepeda pada tahun 2012 lebih banyak dibandingkan pada tahun 2011."
      ]
    },
    {
      "cell_type": "markdown",
      "metadata": {
        "id": "_WeHlCeX8DC2"
      },
      "source": [
        "## Conclusion"
      ]
    },
    {
      "cell_type": "markdown",
      "metadata": {
        "id": "ZTcyR48Y8DC2"
      },
      "source": [
        "**Pertanyaan**\n",
        "\n",
        "Pertanyaan 1: Pada musim apa penyewaan sepeda paling banyak dan paling sedikit dilakukan?\n",
        "\n",
        "Pertanyaan 2: Pada jam berapa penyewaan sepeda yang paling banyak dan paling sedikit sepanjang tahun 2011 dan 2012?\n",
        "\n",
        "Pertanyaan 3: Bagaimana Perbandingan jumlah penyewaan sepeda antara jam 00.00-11.59 dengan jam 12.00-23.59 (AM dan PM)?\n",
        "\n",
        "Pertanyaan 4: Bagaimana perbandingan jumlah antara pelanggan jenis registered dan casual ?\n",
        "\n",
        "Pertanyaan 5: Bagaimana performa penyewaan sepeda per bulan tiap tahunnya?\n",
        "\n",
        "- Conclution pertanyaan 1: Penyewaan sepeda paling banyak di lakukan pada **musim gugur (fall)**. Sedangkan untuk penyewaan sepeda paling sedikit di lakukan pada **musim semi (spring)**.\n",
        "\n",
        "- Conclution pertanyaan 2: Penyewaan Sepeda paling banyak di lakukan di jam **17.00** sore hari , kemudian di ikuti oleh jam 18.00, 8.00, 19.00, 16.00 . Hal ini menunjukan bahwa penyewaan sepeda paling banyak dilakukan di jam-jam berangkat aktivitas dan pulang dari aktivitas. Sedangkan jam penyewaan sepeda paling sedikit ialah pada jam **04.00** dini hari, kemudian jam 03.00, 02.00, 01.00, dan 00.00. ini menunjukan penyewaaan sepeda jumlahnya minim di waktu tidur.\n",
        "\n",
        "- Conclution Pertanyaan 3: Perbandingan penyewaan sepeda pada waktu AM dan PM cukup jauh yaitu **26,7%** berbanding **73,3%** dari keseluruhan data. Artinya adalah waktu penyewaan sepeda lebih banyak dilakukan dari siang hari sampai sebelum tengah malam.\n",
        "\n",
        "- Conclution pertanyaan 4: Perbandingannya Cukup besar dimana pelanggan di dominasi oleh pelanggan **Registered** sebanyak **81.2%** pelanggan di dalam kelompok registered dan sisanya yaitu **18.8%** pelanggan berada di kelompok **casual**.\n",
        "\n",
        "- Conclution pertanyaan 5: Berdasarkan hasil visualisasi data dapat dilihat jumlah penyewaan sepeda tiap bulan di tahun 2012 lebih banyak dibandingkan di bulan yang sama pada tahun 2011. Ini berarti menunjukkan penyewaan sepeda ini mendapat respon dari masyarakat dibuktikan dengan jumlah penggunanya naik. Selain itu, dari hasil visualisasi kita juga dapat simpulkan bahwa naik turunnya jumlah pelanggan penyewa sepeda cenderung sama sepanjang tahun. Baik tahun 2011 ataupun 2012 memiliki pola grafik jumlah penyewa sepeda sama.\n",
        "\n"
      ]
    }
  ],
  "metadata": {
    "colab": {
      "provenance": []
    },
    "kernelspec": {
      "display_name": "Python 3",
      "language": "python",
      "name": "python3"
    },
    "language_info": {
      "codemirror_mode": {
        "name": "ipython",
        "version": 3
      },
      "file_extension": ".py",
      "mimetype": "text/x-python",
      "name": "python",
      "nbconvert_exporter": "python",
      "pygments_lexer": "ipython3",
      "version": "3.13.2"
    },
    "orig_nbformat": 4,
    "vscode": {
      "interpreter": {
        "hash": "972b3bf27e332e87b5379f2791f6ef9dfc79c71018c370b0d7423235e20fe4d7"
      }
    }
  },
  "nbformat": 4,
  "nbformat_minor": 0
}
